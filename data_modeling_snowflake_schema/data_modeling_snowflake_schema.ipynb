{
 "cells": [
  {
   "cell_type": "code",
   "execution_count": 33,
   "id": "9ed5f687-4e48-49eb-96d6-cc24aa613b9d",
   "metadata": {},
   "outputs": [],
   "source": [
    "import pandas as pd"
   ]
  },
  {
   "cell_type": "code",
   "execution_count": 34,
   "id": "3af3a599-9ef4-41e9-bb6a-62a1a93c777a",
   "metadata": {},
   "outputs": [
    {
     "data": {
      "text/html": [
       "<div>\n",
       "<style scoped>\n",
       "    .dataframe tbody tr th:only-of-type {\n",
       "        vertical-align: middle;\n",
       "    }\n",
       "\n",
       "    .dataframe tbody tr th {\n",
       "        vertical-align: top;\n",
       "    }\n",
       "\n",
       "    .dataframe thead th {\n",
       "        text-align: right;\n",
       "    }\n",
       "</style>\n",
       "<table border=\"1\" class=\"dataframe\">\n",
       "  <thead>\n",
       "    <tr style=\"text-align: right;\">\n",
       "      <th></th>\n",
       "      <th>pizza_id</th>\n",
       "      <th>order_id</th>\n",
       "      <th>pizza_name_id</th>\n",
       "      <th>quantity</th>\n",
       "      <th>order_date</th>\n",
       "      <th>order_time</th>\n",
       "      <th>unit_price</th>\n",
       "      <th>total_price</th>\n",
       "      <th>pizza_size</th>\n",
       "      <th>pizza_category</th>\n",
       "      <th>pizza_ingredients</th>\n",
       "      <th>pizza_name</th>\n",
       "    </tr>\n",
       "  </thead>\n",
       "  <tbody>\n",
       "    <tr>\n",
       "      <th>0</th>\n",
       "      <td>1.0</td>\n",
       "      <td>1.0</td>\n",
       "      <td>hawaiian_m</td>\n",
       "      <td>1.0</td>\n",
       "      <td>1/1/2015</td>\n",
       "      <td>11:38:36</td>\n",
       "      <td>13.25</td>\n",
       "      <td>13.25</td>\n",
       "      <td>M</td>\n",
       "      <td>Classic</td>\n",
       "      <td>Sliced Ham, Pineapple, Mozzarella Cheese</td>\n",
       "      <td>The Hawaiian Pizza</td>\n",
       "    </tr>\n",
       "    <tr>\n",
       "      <th>1</th>\n",
       "      <td>2.0</td>\n",
       "      <td>2.0</td>\n",
       "      <td>classic_dlx_m</td>\n",
       "      <td>1.0</td>\n",
       "      <td>1/1/2015</td>\n",
       "      <td>11:57:40</td>\n",
       "      <td>16.00</td>\n",
       "      <td>16.00</td>\n",
       "      <td>M</td>\n",
       "      <td>Classic</td>\n",
       "      <td>Pepperoni, Mushrooms, Red Onions, Red Peppers,...</td>\n",
       "      <td>The Classic Deluxe Pizza</td>\n",
       "    </tr>\n",
       "    <tr>\n",
       "      <th>2</th>\n",
       "      <td>3.0</td>\n",
       "      <td>2.0</td>\n",
       "      <td>five_cheese_l</td>\n",
       "      <td>1.0</td>\n",
       "      <td>1/1/2015</td>\n",
       "      <td>11:57:40</td>\n",
       "      <td>18.50</td>\n",
       "      <td>18.50</td>\n",
       "      <td>L</td>\n",
       "      <td>Veggie</td>\n",
       "      <td>Mozzarella Cheese, Provolone Cheese, Smoked Go...</td>\n",
       "      <td>The Five Cheese Pizza</td>\n",
       "    </tr>\n",
       "    <tr>\n",
       "      <th>3</th>\n",
       "      <td>4.0</td>\n",
       "      <td>2.0</td>\n",
       "      <td>ital_supr_l</td>\n",
       "      <td>1.0</td>\n",
       "      <td>1/1/2015</td>\n",
       "      <td>11:57:40</td>\n",
       "      <td>20.75</td>\n",
       "      <td>20.75</td>\n",
       "      <td>L</td>\n",
       "      <td>Supreme</td>\n",
       "      <td>Calabrese Salami, Capocollo, Tomatoes, Red Oni...</td>\n",
       "      <td>The Italian Supreme Pizza</td>\n",
       "    </tr>\n",
       "    <tr>\n",
       "      <th>4</th>\n",
       "      <td>5.0</td>\n",
       "      <td>2.0</td>\n",
       "      <td>mexicana_m</td>\n",
       "      <td>1.0</td>\n",
       "      <td>1/1/2015</td>\n",
       "      <td>11:57:40</td>\n",
       "      <td>16.00</td>\n",
       "      <td>16.00</td>\n",
       "      <td>M</td>\n",
       "      <td>Veggie</td>\n",
       "      <td>Tomatoes, Red Peppers, Jalapeno Peppers, Red O...</td>\n",
       "      <td>The Mexicana Pizza</td>\n",
       "    </tr>\n",
       "  </tbody>\n",
       "</table>\n",
       "</div>"
      ],
      "text/plain": [
       "   pizza_id  order_id  pizza_name_id  quantity order_date order_time  \\\n",
       "0       1.0       1.0     hawaiian_m       1.0   1/1/2015   11:38:36   \n",
       "1       2.0       2.0  classic_dlx_m       1.0   1/1/2015   11:57:40   \n",
       "2       3.0       2.0  five_cheese_l       1.0   1/1/2015   11:57:40   \n",
       "3       4.0       2.0    ital_supr_l       1.0   1/1/2015   11:57:40   \n",
       "4       5.0       2.0     mexicana_m       1.0   1/1/2015   11:57:40   \n",
       "\n",
       "   unit_price  total_price pizza_size pizza_category  \\\n",
       "0       13.25        13.25          M        Classic   \n",
       "1       16.00        16.00          M        Classic   \n",
       "2       18.50        18.50          L         Veggie   \n",
       "3       20.75        20.75          L        Supreme   \n",
       "4       16.00        16.00          M         Veggie   \n",
       "\n",
       "                                   pizza_ingredients  \\\n",
       "0           Sliced Ham, Pineapple, Mozzarella Cheese   \n",
       "1  Pepperoni, Mushrooms, Red Onions, Red Peppers,...   \n",
       "2  Mozzarella Cheese, Provolone Cheese, Smoked Go...   \n",
       "3  Calabrese Salami, Capocollo, Tomatoes, Red Oni...   \n",
       "4  Tomatoes, Red Peppers, Jalapeno Peppers, Red O...   \n",
       "\n",
       "                  pizza_name  \n",
       "0         The Hawaiian Pizza  \n",
       "1   The Classic Deluxe Pizza  \n",
       "2      The Five Cheese Pizza  \n",
       "3  The Italian Supreme Pizza  \n",
       "4         The Mexicana Pizza  "
      ]
     },
     "execution_count": 34,
     "metadata": {},
     "output_type": "execute_result"
    }
   ],
   "source": [
    "df = pd.read_csv(\"pizza_sales.csv\")\n",
    "df.head()"
   ]
  },
  {
   "cell_type": "code",
   "execution_count": 35,
   "id": "467fe5fc-2ced-4084-b921-02bb67df8271",
   "metadata": {},
   "outputs": [
    {
     "data": {
      "text/plain": [
       "Index(['pizza_id', 'order_id', 'pizza_name_id', 'quantity', 'order_date',\n",
       "       'order_time', 'unit_price', 'total_price', 'pizza_size',\n",
       "       'pizza_category', 'pizza_ingredients', 'pizza_name'],\n",
       "      dtype='object')"
      ]
     },
     "execution_count": 35,
     "metadata": {},
     "output_type": "execute_result"
    }
   ],
   "source": [
    "df.columns"
   ]
  },
  {
   "cell_type": "code",
   "execution_count": 36,
   "id": "1a1e2190-7a84-4ce5-8451-af461eb7a44c",
   "metadata": {},
   "outputs": [
    {
     "data": {
      "text/plain": [
       "pizza_id             float64\n",
       "order_id             float64\n",
       "pizza_name_id         object\n",
       "quantity             float64\n",
       "order_date            object\n",
       "order_time            object\n",
       "unit_price           float64\n",
       "total_price          float64\n",
       "pizza_size            object\n",
       "pizza_category        object\n",
       "pizza_ingredients     object\n",
       "pizza_name            object\n",
       "dtype: object"
      ]
     },
     "execution_count": 36,
     "metadata": {},
     "output_type": "execute_result"
    }
   ],
   "source": [
    "df.dtypes"
   ]
  },
  {
   "cell_type": "markdown",
   "id": "7473a32c-7d65-4ec1-8b6a-292a1831a2ca",
   "metadata": {},
   "source": [
    "# Date Dimension"
   ]
  },
  {
   "cell_type": "code",
   "execution_count": 37,
   "id": "3398b0c1-5100-496e-a472-d3c83145f4b3",
   "metadata": {},
   "outputs": [],
   "source": [
    "df['order_date']=df['order_date'].astype(str)\n",
    "df['order_time']=df['order_time'].astype(str)"
   ]
  },
  {
   "cell_type": "code",
   "execution_count": 41,
   "id": "0d8c52c0-27a0-404d-b899-dec3a1352213",
   "metadata": {},
   "outputs": [
    {
     "data": {
      "text/plain": [
       "0          1/1/2015\n",
       "1          1/1/2015\n",
       "2          1/1/2015\n",
       "3          1/1/2015\n",
       "4          1/1/2015\n",
       "            ...    \n",
       "48615    31-12-2015\n",
       "48616    31-12-2015\n",
       "48617    31-12-2015\n",
       "48618    31-12-2015\n",
       "48619    31-12-2015\n",
       "Name: order_date, Length: 48620, dtype: object"
      ]
     },
     "execution_count": 41,
     "metadata": {},
     "output_type": "execute_result"
    }
   ],
   "source": [
    "df['order_date']"
   ]
  },
  {
   "cell_type": "code",
   "execution_count": 39,
   "id": "b28ebefb-9832-4a05-babc-453ab6eb0224",
   "metadata": {},
   "outputs": [],
   "source": [
    "date_dim = df[['order_date', 'order_time']].drop_duplicates().copy()"
   ]
  },
  {
   "cell_type": "code",
   "execution_count": 40,
   "id": "880d6f75-5786-4c9c-8070-daf6d983d9eb",
   "metadata": {},
   "outputs": [
    {
     "data": {
      "text/html": [
       "<div>\n",
       "<style scoped>\n",
       "    .dataframe tbody tr th:only-of-type {\n",
       "        vertical-align: middle;\n",
       "    }\n",
       "\n",
       "    .dataframe tbody tr th {\n",
       "        vertical-align: top;\n",
       "    }\n",
       "\n",
       "    .dataframe thead th {\n",
       "        text-align: right;\n",
       "    }\n",
       "</style>\n",
       "<table border=\"1\" class=\"dataframe\">\n",
       "  <thead>\n",
       "    <tr style=\"text-align: right;\">\n",
       "      <th></th>\n",
       "      <th>order_date</th>\n",
       "      <th>order_time</th>\n",
       "    </tr>\n",
       "  </thead>\n",
       "  <tbody>\n",
       "    <tr>\n",
       "      <th>0</th>\n",
       "      <td>1/1/2015</td>\n",
       "      <td>11:38:36</td>\n",
       "    </tr>\n",
       "    <tr>\n",
       "      <th>1</th>\n",
       "      <td>1/1/2015</td>\n",
       "      <td>11:57:40</td>\n",
       "    </tr>\n",
       "    <tr>\n",
       "      <th>6</th>\n",
       "      <td>1/1/2015</td>\n",
       "      <td>12:12:28</td>\n",
       "    </tr>\n",
       "    <tr>\n",
       "      <th>8</th>\n",
       "      <td>1/1/2015</td>\n",
       "      <td>12:16:31</td>\n",
       "    </tr>\n",
       "    <tr>\n",
       "      <th>9</th>\n",
       "      <td>1/1/2015</td>\n",
       "      <td>12:21:30</td>\n",
       "    </tr>\n",
       "    <tr>\n",
       "      <th>...</th>\n",
       "      <td>...</td>\n",
       "      <td>...</td>\n",
       "    </tr>\n",
       "    <tr>\n",
       "      <th>48607</th>\n",
       "      <td>31-12-2015</td>\n",
       "      <td>20:51:07</td>\n",
       "    </tr>\n",
       "    <tr>\n",
       "      <th>48611</th>\n",
       "      <td>31-12-2015</td>\n",
       "      <td>21:14:37</td>\n",
       "    </tr>\n",
       "    <tr>\n",
       "      <th>48615</th>\n",
       "      <td>31-12-2015</td>\n",
       "      <td>21:23:10</td>\n",
       "    </tr>\n",
       "    <tr>\n",
       "      <th>48618</th>\n",
       "      <td>31-12-2015</td>\n",
       "      <td>22:09:54</td>\n",
       "    </tr>\n",
       "    <tr>\n",
       "      <th>48619</th>\n",
       "      <td>31-12-2015</td>\n",
       "      <td>23:02:05</td>\n",
       "    </tr>\n",
       "  </tbody>\n",
       "</table>\n",
       "<p>21350 rows × 2 columns</p>\n",
       "</div>"
      ],
      "text/plain": [
       "       order_date order_time\n",
       "0        1/1/2015   11:38:36\n",
       "1        1/1/2015   11:57:40\n",
       "6        1/1/2015   12:12:28\n",
       "8        1/1/2015   12:16:31\n",
       "9        1/1/2015   12:21:30\n",
       "...           ...        ...\n",
       "48607  31-12-2015   20:51:07\n",
       "48611  31-12-2015   21:14:37\n",
       "48615  31-12-2015   21:23:10\n",
       "48618  31-12-2015   22:09:54\n",
       "48619  31-12-2015   23:02:05\n",
       "\n",
       "[21350 rows x 2 columns]"
      ]
     },
     "execution_count": 40,
     "metadata": {},
     "output_type": "execute_result"
    }
   ],
   "source": [
    "date_dim"
   ]
  },
  {
   "cell_type": "code",
   "execution_count": 42,
   "id": "4208d390-1ee7-44e4-b5b7-4116e18aa615",
   "metadata": {},
   "outputs": [],
   "source": [
    "date_dim['order_date'] = date_dim['order_date'].str.replace('-', '/', regex=False)"
   ]
  },
  {
   "cell_type": "code",
   "execution_count": 43,
   "id": "9e691bfe-ac53-48c0-91e6-5793ad6f9c78",
   "metadata": {},
   "outputs": [
    {
     "data": {
      "text/html": [
       "<div>\n",
       "<style scoped>\n",
       "    .dataframe tbody tr th:only-of-type {\n",
       "        vertical-align: middle;\n",
       "    }\n",
       "\n",
       "    .dataframe tbody tr th {\n",
       "        vertical-align: top;\n",
       "    }\n",
       "\n",
       "    .dataframe thead th {\n",
       "        text-align: right;\n",
       "    }\n",
       "</style>\n",
       "<table border=\"1\" class=\"dataframe\">\n",
       "  <thead>\n",
       "    <tr style=\"text-align: right;\">\n",
       "      <th></th>\n",
       "      <th>order_date</th>\n",
       "      <th>order_time</th>\n",
       "    </tr>\n",
       "  </thead>\n",
       "  <tbody>\n",
       "    <tr>\n",
       "      <th>0</th>\n",
       "      <td>1/1/2015</td>\n",
       "      <td>11:38:36</td>\n",
       "    </tr>\n",
       "    <tr>\n",
       "      <th>1</th>\n",
       "      <td>1/1/2015</td>\n",
       "      <td>11:57:40</td>\n",
       "    </tr>\n",
       "    <tr>\n",
       "      <th>6</th>\n",
       "      <td>1/1/2015</td>\n",
       "      <td>12:12:28</td>\n",
       "    </tr>\n",
       "    <tr>\n",
       "      <th>8</th>\n",
       "      <td>1/1/2015</td>\n",
       "      <td>12:16:31</td>\n",
       "    </tr>\n",
       "    <tr>\n",
       "      <th>9</th>\n",
       "      <td>1/1/2015</td>\n",
       "      <td>12:21:30</td>\n",
       "    </tr>\n",
       "    <tr>\n",
       "      <th>...</th>\n",
       "      <td>...</td>\n",
       "      <td>...</td>\n",
       "    </tr>\n",
       "    <tr>\n",
       "      <th>48607</th>\n",
       "      <td>31/12/2015</td>\n",
       "      <td>20:51:07</td>\n",
       "    </tr>\n",
       "    <tr>\n",
       "      <th>48611</th>\n",
       "      <td>31/12/2015</td>\n",
       "      <td>21:14:37</td>\n",
       "    </tr>\n",
       "    <tr>\n",
       "      <th>48615</th>\n",
       "      <td>31/12/2015</td>\n",
       "      <td>21:23:10</td>\n",
       "    </tr>\n",
       "    <tr>\n",
       "      <th>48618</th>\n",
       "      <td>31/12/2015</td>\n",
       "      <td>22:09:54</td>\n",
       "    </tr>\n",
       "    <tr>\n",
       "      <th>48619</th>\n",
       "      <td>31/12/2015</td>\n",
       "      <td>23:02:05</td>\n",
       "    </tr>\n",
       "  </tbody>\n",
       "</table>\n",
       "<p>21350 rows × 2 columns</p>\n",
       "</div>"
      ],
      "text/plain": [
       "       order_date order_time\n",
       "0        1/1/2015   11:38:36\n",
       "1        1/1/2015   11:57:40\n",
       "6        1/1/2015   12:12:28\n",
       "8        1/1/2015   12:16:31\n",
       "9        1/1/2015   12:21:30\n",
       "...           ...        ...\n",
       "48607  31/12/2015   20:51:07\n",
       "48611  31/12/2015   21:14:37\n",
       "48615  31/12/2015   21:23:10\n",
       "48618  31/12/2015   22:09:54\n",
       "48619  31/12/2015   23:02:05\n",
       "\n",
       "[21350 rows x 2 columns]"
      ]
     },
     "execution_count": 43,
     "metadata": {},
     "output_type": "execute_result"
    }
   ],
   "source": [
    "date_dim"
   ]
  },
  {
   "cell_type": "code",
   "execution_count": 44,
   "id": "86d4e7ba-bc78-47c1-8413-b76658a0220f",
   "metadata": {},
   "outputs": [],
   "source": [
    "date_dim['date_obj'] = pd.to_datetime(date_dim['order_date'], dayfirst=True, errors='coerce')"
   ]
  },
  {
   "cell_type": "code",
   "execution_count": 45,
   "id": "7be077cf-aed0-4b3b-849c-304b75ffba8e",
   "metadata": {},
   "outputs": [
    {
     "data": {
      "text/plain": [
       "0       2015-01-01\n",
       "1       2015-01-01\n",
       "6       2015-01-01\n",
       "8       2015-01-01\n",
       "9       2015-01-01\n",
       "           ...    \n",
       "48607   2015-12-31\n",
       "48611   2015-12-31\n",
       "48615   2015-12-31\n",
       "48618   2015-12-31\n",
       "48619   2015-12-31\n",
       "Name: date_obj, Length: 21350, dtype: datetime64[ns]"
      ]
     },
     "execution_count": 45,
     "metadata": {},
     "output_type": "execute_result"
    }
   ],
   "source": [
    "date_dim['date_obj']"
   ]
  },
  {
   "cell_type": "code",
   "execution_count": 46,
   "id": "d70d0fba-1e1e-4257-8f68-d3aba1873d80",
   "metadata": {},
   "outputs": [
    {
     "data": {
      "text/plain": [
       "0"
      ]
     },
     "execution_count": 46,
     "metadata": {},
     "output_type": "execute_result"
    }
   ],
   "source": [
    "date_dim['date_obj'].isna().sum()"
   ]
  },
  {
   "cell_type": "code",
   "execution_count": 47,
   "id": "ea7f39b2-b296-4a13-bd5e-2caf46d75f53",
   "metadata": {},
   "outputs": [
    {
     "data": {
      "text/html": [
       "<div>\n",
       "<style scoped>\n",
       "    .dataframe tbody tr th:only-of-type {\n",
       "        vertical-align: middle;\n",
       "    }\n",
       "\n",
       "    .dataframe tbody tr th {\n",
       "        vertical-align: top;\n",
       "    }\n",
       "\n",
       "    .dataframe thead th {\n",
       "        text-align: right;\n",
       "    }\n",
       "</style>\n",
       "<table border=\"1\" class=\"dataframe\">\n",
       "  <thead>\n",
       "    <tr style=\"text-align: right;\">\n",
       "      <th></th>\n",
       "      <th>order_date</th>\n",
       "      <th>order_time</th>\n",
       "      <th>date_obj</th>\n",
       "    </tr>\n",
       "  </thead>\n",
       "  <tbody>\n",
       "    <tr>\n",
       "      <th>0</th>\n",
       "      <td>1/1/2015</td>\n",
       "      <td>11:38:36</td>\n",
       "      <td>2015-01-01</td>\n",
       "    </tr>\n",
       "    <tr>\n",
       "      <th>1</th>\n",
       "      <td>1/1/2015</td>\n",
       "      <td>11:57:40</td>\n",
       "      <td>2015-01-01</td>\n",
       "    </tr>\n",
       "    <tr>\n",
       "      <th>6</th>\n",
       "      <td>1/1/2015</td>\n",
       "      <td>12:12:28</td>\n",
       "      <td>2015-01-01</td>\n",
       "    </tr>\n",
       "    <tr>\n",
       "      <th>8</th>\n",
       "      <td>1/1/2015</td>\n",
       "      <td>12:16:31</td>\n",
       "      <td>2015-01-01</td>\n",
       "    </tr>\n",
       "    <tr>\n",
       "      <th>9</th>\n",
       "      <td>1/1/2015</td>\n",
       "      <td>12:21:30</td>\n",
       "      <td>2015-01-01</td>\n",
       "    </tr>\n",
       "    <tr>\n",
       "      <th>...</th>\n",
       "      <td>...</td>\n",
       "      <td>...</td>\n",
       "      <td>...</td>\n",
       "    </tr>\n",
       "    <tr>\n",
       "      <th>48607</th>\n",
       "      <td>31/12/2015</td>\n",
       "      <td>20:51:07</td>\n",
       "      <td>2015-12-31</td>\n",
       "    </tr>\n",
       "    <tr>\n",
       "      <th>48611</th>\n",
       "      <td>31/12/2015</td>\n",
       "      <td>21:14:37</td>\n",
       "      <td>2015-12-31</td>\n",
       "    </tr>\n",
       "    <tr>\n",
       "      <th>48615</th>\n",
       "      <td>31/12/2015</td>\n",
       "      <td>21:23:10</td>\n",
       "      <td>2015-12-31</td>\n",
       "    </tr>\n",
       "    <tr>\n",
       "      <th>48618</th>\n",
       "      <td>31/12/2015</td>\n",
       "      <td>22:09:54</td>\n",
       "      <td>2015-12-31</td>\n",
       "    </tr>\n",
       "    <tr>\n",
       "      <th>48619</th>\n",
       "      <td>31/12/2015</td>\n",
       "      <td>23:02:05</td>\n",
       "      <td>2015-12-31</td>\n",
       "    </tr>\n",
       "  </tbody>\n",
       "</table>\n",
       "<p>21350 rows × 3 columns</p>\n",
       "</div>"
      ],
      "text/plain": [
       "       order_date order_time   date_obj\n",
       "0        1/1/2015   11:38:36 2015-01-01\n",
       "1        1/1/2015   11:57:40 2015-01-01\n",
       "6        1/1/2015   12:12:28 2015-01-01\n",
       "8        1/1/2015   12:16:31 2015-01-01\n",
       "9        1/1/2015   12:21:30 2015-01-01\n",
       "...           ...        ...        ...\n",
       "48607  31/12/2015   20:51:07 2015-12-31\n",
       "48611  31/12/2015   21:14:37 2015-12-31\n",
       "48615  31/12/2015   21:23:10 2015-12-31\n",
       "48618  31/12/2015   22:09:54 2015-12-31\n",
       "48619  31/12/2015   23:02:05 2015-12-31\n",
       "\n",
       "[21350 rows x 3 columns]"
      ]
     },
     "execution_count": 47,
     "metadata": {},
     "output_type": "execute_result"
    }
   ],
   "source": [
    "date_dim"
   ]
  },
  {
   "cell_type": "code",
   "execution_count": 48,
   "id": "4d00cd6c-d9f1-42c7-b59b-45876db63964",
   "metadata": {},
   "outputs": [],
   "source": [
    "date_dim['day'] = date_dim['date_obj'].dt.day\n",
    "date_dim['month'] = date_dim['date_obj'].dt.month\n",
    "date_dim['year'] = date_dim['date_obj'].dt.year"
   ]
  },
  {
   "cell_type": "code",
   "execution_count": 49,
   "id": "cd50b161-2ba6-46e6-a684-d7deef3f01af",
   "metadata": {},
   "outputs": [
    {
     "data": {
      "text/html": [
       "<div>\n",
       "<style scoped>\n",
       "    .dataframe tbody tr th:only-of-type {\n",
       "        vertical-align: middle;\n",
       "    }\n",
       "\n",
       "    .dataframe tbody tr th {\n",
       "        vertical-align: top;\n",
       "    }\n",
       "\n",
       "    .dataframe thead th {\n",
       "        text-align: right;\n",
       "    }\n",
       "</style>\n",
       "<table border=\"1\" class=\"dataframe\">\n",
       "  <thead>\n",
       "    <tr style=\"text-align: right;\">\n",
       "      <th></th>\n",
       "      <th>order_date</th>\n",
       "      <th>order_time</th>\n",
       "      <th>date_obj</th>\n",
       "      <th>day</th>\n",
       "      <th>month</th>\n",
       "      <th>year</th>\n",
       "    </tr>\n",
       "  </thead>\n",
       "  <tbody>\n",
       "    <tr>\n",
       "      <th>0</th>\n",
       "      <td>1/1/2015</td>\n",
       "      <td>11:38:36</td>\n",
       "      <td>2015-01-01</td>\n",
       "      <td>1</td>\n",
       "      <td>1</td>\n",
       "      <td>2015</td>\n",
       "    </tr>\n",
       "    <tr>\n",
       "      <th>1</th>\n",
       "      <td>1/1/2015</td>\n",
       "      <td>11:57:40</td>\n",
       "      <td>2015-01-01</td>\n",
       "      <td>1</td>\n",
       "      <td>1</td>\n",
       "      <td>2015</td>\n",
       "    </tr>\n",
       "    <tr>\n",
       "      <th>6</th>\n",
       "      <td>1/1/2015</td>\n",
       "      <td>12:12:28</td>\n",
       "      <td>2015-01-01</td>\n",
       "      <td>1</td>\n",
       "      <td>1</td>\n",
       "      <td>2015</td>\n",
       "    </tr>\n",
       "    <tr>\n",
       "      <th>8</th>\n",
       "      <td>1/1/2015</td>\n",
       "      <td>12:16:31</td>\n",
       "      <td>2015-01-01</td>\n",
       "      <td>1</td>\n",
       "      <td>1</td>\n",
       "      <td>2015</td>\n",
       "    </tr>\n",
       "    <tr>\n",
       "      <th>9</th>\n",
       "      <td>1/1/2015</td>\n",
       "      <td>12:21:30</td>\n",
       "      <td>2015-01-01</td>\n",
       "      <td>1</td>\n",
       "      <td>1</td>\n",
       "      <td>2015</td>\n",
       "    </tr>\n",
       "  </tbody>\n",
       "</table>\n",
       "</div>"
      ],
      "text/plain": [
       "  order_date order_time   date_obj  day  month  year\n",
       "0   1/1/2015   11:38:36 2015-01-01    1      1  2015\n",
       "1   1/1/2015   11:57:40 2015-01-01    1      1  2015\n",
       "6   1/1/2015   12:12:28 2015-01-01    1      1  2015\n",
       "8   1/1/2015   12:16:31 2015-01-01    1      1  2015\n",
       "9   1/1/2015   12:21:30 2015-01-01    1      1  2015"
      ]
     },
     "execution_count": 49,
     "metadata": {},
     "output_type": "execute_result"
    }
   ],
   "source": [
    "date_dim.head()"
   ]
  },
  {
   "cell_type": "code",
   "execution_count": 50,
   "id": "81273128-eba9-4d51-8131-1a3f5e9189cb",
   "metadata": {},
   "outputs": [],
   "source": [
    "date_dim.drop(columns=['date_obj'], inplace=True)"
   ]
  },
  {
   "cell_type": "code",
   "execution_count": 51,
   "id": "ce6af6dc-1806-4134-bb22-8d0cf6b88020",
   "metadata": {},
   "outputs": [
    {
     "data": {
      "text/html": [
       "<div>\n",
       "<style scoped>\n",
       "    .dataframe tbody tr th:only-of-type {\n",
       "        vertical-align: middle;\n",
       "    }\n",
       "\n",
       "    .dataframe tbody tr th {\n",
       "        vertical-align: top;\n",
       "    }\n",
       "\n",
       "    .dataframe thead th {\n",
       "        text-align: right;\n",
       "    }\n",
       "</style>\n",
       "<table border=\"1\" class=\"dataframe\">\n",
       "  <thead>\n",
       "    <tr style=\"text-align: right;\">\n",
       "      <th></th>\n",
       "      <th>order_date</th>\n",
       "      <th>order_time</th>\n",
       "      <th>day</th>\n",
       "      <th>month</th>\n",
       "      <th>year</th>\n",
       "    </tr>\n",
       "  </thead>\n",
       "  <tbody>\n",
       "    <tr>\n",
       "      <th>0</th>\n",
       "      <td>1/1/2015</td>\n",
       "      <td>11:38:36</td>\n",
       "      <td>1</td>\n",
       "      <td>1</td>\n",
       "      <td>2015</td>\n",
       "    </tr>\n",
       "    <tr>\n",
       "      <th>1</th>\n",
       "      <td>1/1/2015</td>\n",
       "      <td>11:57:40</td>\n",
       "      <td>1</td>\n",
       "      <td>1</td>\n",
       "      <td>2015</td>\n",
       "    </tr>\n",
       "    <tr>\n",
       "      <th>6</th>\n",
       "      <td>1/1/2015</td>\n",
       "      <td>12:12:28</td>\n",
       "      <td>1</td>\n",
       "      <td>1</td>\n",
       "      <td>2015</td>\n",
       "    </tr>\n",
       "    <tr>\n",
       "      <th>8</th>\n",
       "      <td>1/1/2015</td>\n",
       "      <td>12:16:31</td>\n",
       "      <td>1</td>\n",
       "      <td>1</td>\n",
       "      <td>2015</td>\n",
       "    </tr>\n",
       "    <tr>\n",
       "      <th>9</th>\n",
       "      <td>1/1/2015</td>\n",
       "      <td>12:21:30</td>\n",
       "      <td>1</td>\n",
       "      <td>1</td>\n",
       "      <td>2015</td>\n",
       "    </tr>\n",
       "  </tbody>\n",
       "</table>\n",
       "</div>"
      ],
      "text/plain": [
       "  order_date order_time  day  month  year\n",
       "0   1/1/2015   11:38:36    1      1  2015\n",
       "1   1/1/2015   11:57:40    1      1  2015\n",
       "6   1/1/2015   12:12:28    1      1  2015\n",
       "8   1/1/2015   12:16:31    1      1  2015\n",
       "9   1/1/2015   12:21:30    1      1  2015"
      ]
     },
     "execution_count": 51,
     "metadata": {},
     "output_type": "execute_result"
    }
   ],
   "source": [
    "date_dim.head()"
   ]
  },
  {
   "cell_type": "code",
   "execution_count": 52,
   "id": "b48fd3f4-5f45-4725-8730-ebff609e0fb6",
   "metadata": {},
   "outputs": [],
   "source": [
    "date_dim = date_dim.reset_index(drop=True)\n",
    "date_dim['date_id'] = date_dim.index + 1"
   ]
  },
  {
   "cell_type": "code",
   "execution_count": 53,
   "id": "81597e8c-e333-4ae7-b1f0-3c9057c53df2",
   "metadata": {},
   "outputs": [
    {
     "data": {
      "text/plain": [
       "True"
      ]
     },
     "execution_count": 53,
     "metadata": {},
     "output_type": "execute_result"
    }
   ],
   "source": [
    "date_dim['date_id'].is_unique"
   ]
  },
  {
   "cell_type": "code",
   "execution_count": 54,
   "id": "0db00ffc-f3ae-4a26-b0bb-e153c3c0fe08",
   "metadata": {},
   "outputs": [],
   "source": [
    "date_dim = date_dim[['date_id', 'order_date', 'order_time', 'day', 'month', 'year']]"
   ]
  },
  {
   "cell_type": "code",
   "execution_count": 55,
   "id": "a49dc76b-6fb8-479e-a03f-27f18bb24fd9",
   "metadata": {},
   "outputs": [
    {
     "data": {
      "text/html": [
       "<div>\n",
       "<style scoped>\n",
       "    .dataframe tbody tr th:only-of-type {\n",
       "        vertical-align: middle;\n",
       "    }\n",
       "\n",
       "    .dataframe tbody tr th {\n",
       "        vertical-align: top;\n",
       "    }\n",
       "\n",
       "    .dataframe thead th {\n",
       "        text-align: right;\n",
       "    }\n",
       "</style>\n",
       "<table border=\"1\" class=\"dataframe\">\n",
       "  <thead>\n",
       "    <tr style=\"text-align: right;\">\n",
       "      <th></th>\n",
       "      <th>date_id</th>\n",
       "      <th>order_date</th>\n",
       "      <th>order_time</th>\n",
       "      <th>day</th>\n",
       "      <th>month</th>\n",
       "      <th>year</th>\n",
       "    </tr>\n",
       "  </thead>\n",
       "  <tbody>\n",
       "    <tr>\n",
       "      <th>0</th>\n",
       "      <td>1</td>\n",
       "      <td>1/1/2015</td>\n",
       "      <td>11:38:36</td>\n",
       "      <td>1</td>\n",
       "      <td>1</td>\n",
       "      <td>2015</td>\n",
       "    </tr>\n",
       "    <tr>\n",
       "      <th>1</th>\n",
       "      <td>2</td>\n",
       "      <td>1/1/2015</td>\n",
       "      <td>11:57:40</td>\n",
       "      <td>1</td>\n",
       "      <td>1</td>\n",
       "      <td>2015</td>\n",
       "    </tr>\n",
       "    <tr>\n",
       "      <th>2</th>\n",
       "      <td>3</td>\n",
       "      <td>1/1/2015</td>\n",
       "      <td>12:12:28</td>\n",
       "      <td>1</td>\n",
       "      <td>1</td>\n",
       "      <td>2015</td>\n",
       "    </tr>\n",
       "    <tr>\n",
       "      <th>3</th>\n",
       "      <td>4</td>\n",
       "      <td>1/1/2015</td>\n",
       "      <td>12:16:31</td>\n",
       "      <td>1</td>\n",
       "      <td>1</td>\n",
       "      <td>2015</td>\n",
       "    </tr>\n",
       "    <tr>\n",
       "      <th>4</th>\n",
       "      <td>5</td>\n",
       "      <td>1/1/2015</td>\n",
       "      <td>12:21:30</td>\n",
       "      <td>1</td>\n",
       "      <td>1</td>\n",
       "      <td>2015</td>\n",
       "    </tr>\n",
       "    <tr>\n",
       "      <th>...</th>\n",
       "      <td>...</td>\n",
       "      <td>...</td>\n",
       "      <td>...</td>\n",
       "      <td>...</td>\n",
       "      <td>...</td>\n",
       "      <td>...</td>\n",
       "    </tr>\n",
       "    <tr>\n",
       "      <th>21345</th>\n",
       "      <td>21346</td>\n",
       "      <td>31/12/2015</td>\n",
       "      <td>20:51:07</td>\n",
       "      <td>31</td>\n",
       "      <td>12</td>\n",
       "      <td>2015</td>\n",
       "    </tr>\n",
       "    <tr>\n",
       "      <th>21346</th>\n",
       "      <td>21347</td>\n",
       "      <td>31/12/2015</td>\n",
       "      <td>21:14:37</td>\n",
       "      <td>31</td>\n",
       "      <td>12</td>\n",
       "      <td>2015</td>\n",
       "    </tr>\n",
       "    <tr>\n",
       "      <th>21347</th>\n",
       "      <td>21348</td>\n",
       "      <td>31/12/2015</td>\n",
       "      <td>21:23:10</td>\n",
       "      <td>31</td>\n",
       "      <td>12</td>\n",
       "      <td>2015</td>\n",
       "    </tr>\n",
       "    <tr>\n",
       "      <th>21348</th>\n",
       "      <td>21349</td>\n",
       "      <td>31/12/2015</td>\n",
       "      <td>22:09:54</td>\n",
       "      <td>31</td>\n",
       "      <td>12</td>\n",
       "      <td>2015</td>\n",
       "    </tr>\n",
       "    <tr>\n",
       "      <th>21349</th>\n",
       "      <td>21350</td>\n",
       "      <td>31/12/2015</td>\n",
       "      <td>23:02:05</td>\n",
       "      <td>31</td>\n",
       "      <td>12</td>\n",
       "      <td>2015</td>\n",
       "    </tr>\n",
       "  </tbody>\n",
       "</table>\n",
       "<p>21350 rows × 6 columns</p>\n",
       "</div>"
      ],
      "text/plain": [
       "       date_id  order_date order_time  day  month  year\n",
       "0            1    1/1/2015   11:38:36    1      1  2015\n",
       "1            2    1/1/2015   11:57:40    1      1  2015\n",
       "2            3    1/1/2015   12:12:28    1      1  2015\n",
       "3            4    1/1/2015   12:16:31    1      1  2015\n",
       "4            5    1/1/2015   12:21:30    1      1  2015\n",
       "...        ...         ...        ...  ...    ...   ...\n",
       "21345    21346  31/12/2015   20:51:07   31     12  2015\n",
       "21346    21347  31/12/2015   21:14:37   31     12  2015\n",
       "21347    21348  31/12/2015   21:23:10   31     12  2015\n",
       "21348    21349  31/12/2015   22:09:54   31     12  2015\n",
       "21349    21350  31/12/2015   23:02:05   31     12  2015\n",
       "\n",
       "[21350 rows x 6 columns]"
      ]
     },
     "execution_count": 55,
     "metadata": {},
     "output_type": "execute_result"
    }
   ],
   "source": [
    "date_dim"
   ]
  },
  {
   "cell_type": "code",
   "execution_count": 56,
   "id": "96f861bc-3c32-479a-99bc-e5bb04a264a7",
   "metadata": {},
   "outputs": [],
   "source": [
    "df = df.merge(\n",
    "    date_dim[['order_date', 'order_time', 'date_id']],\n",
    "    on=['order_date', 'order_time'],\n",
    "    how='left'\n",
    ")"
   ]
  },
  {
   "cell_type": "code",
   "execution_count": 57,
   "id": "f7738f9b-13ec-4ad0-a3a7-62a8487afae8",
   "metadata": {},
   "outputs": [
    {
     "data": {
      "text/html": [
       "<div>\n",
       "<style scoped>\n",
       "    .dataframe tbody tr th:only-of-type {\n",
       "        vertical-align: middle;\n",
       "    }\n",
       "\n",
       "    .dataframe tbody tr th {\n",
       "        vertical-align: top;\n",
       "    }\n",
       "\n",
       "    .dataframe thead th {\n",
       "        text-align: right;\n",
       "    }\n",
       "</style>\n",
       "<table border=\"1\" class=\"dataframe\">\n",
       "  <thead>\n",
       "    <tr style=\"text-align: right;\">\n",
       "      <th></th>\n",
       "      <th>pizza_id</th>\n",
       "      <th>order_id</th>\n",
       "      <th>pizza_name_id</th>\n",
       "      <th>quantity</th>\n",
       "      <th>order_date</th>\n",
       "      <th>order_time</th>\n",
       "      <th>unit_price</th>\n",
       "      <th>total_price</th>\n",
       "      <th>pizza_size</th>\n",
       "      <th>pizza_category</th>\n",
       "      <th>pizza_ingredients</th>\n",
       "      <th>pizza_name</th>\n",
       "      <th>date_id</th>\n",
       "    </tr>\n",
       "  </thead>\n",
       "  <tbody>\n",
       "    <tr>\n",
       "      <th>0</th>\n",
       "      <td>1.0</td>\n",
       "      <td>1.0</td>\n",
       "      <td>hawaiian_m</td>\n",
       "      <td>1.0</td>\n",
       "      <td>1/1/2015</td>\n",
       "      <td>11:38:36</td>\n",
       "      <td>13.25</td>\n",
       "      <td>13.25</td>\n",
       "      <td>M</td>\n",
       "      <td>Classic</td>\n",
       "      <td>Sliced Ham, Pineapple, Mozzarella Cheese</td>\n",
       "      <td>The Hawaiian Pizza</td>\n",
       "      <td>1.0</td>\n",
       "    </tr>\n",
       "    <tr>\n",
       "      <th>1</th>\n",
       "      <td>2.0</td>\n",
       "      <td>2.0</td>\n",
       "      <td>classic_dlx_m</td>\n",
       "      <td>1.0</td>\n",
       "      <td>1/1/2015</td>\n",
       "      <td>11:57:40</td>\n",
       "      <td>16.00</td>\n",
       "      <td>16.00</td>\n",
       "      <td>M</td>\n",
       "      <td>Classic</td>\n",
       "      <td>Pepperoni, Mushrooms, Red Onions, Red Peppers,...</td>\n",
       "      <td>The Classic Deluxe Pizza</td>\n",
       "      <td>2.0</td>\n",
       "    </tr>\n",
       "    <tr>\n",
       "      <th>2</th>\n",
       "      <td>3.0</td>\n",
       "      <td>2.0</td>\n",
       "      <td>five_cheese_l</td>\n",
       "      <td>1.0</td>\n",
       "      <td>1/1/2015</td>\n",
       "      <td>11:57:40</td>\n",
       "      <td>18.50</td>\n",
       "      <td>18.50</td>\n",
       "      <td>L</td>\n",
       "      <td>Veggie</td>\n",
       "      <td>Mozzarella Cheese, Provolone Cheese, Smoked Go...</td>\n",
       "      <td>The Five Cheese Pizza</td>\n",
       "      <td>2.0</td>\n",
       "    </tr>\n",
       "    <tr>\n",
       "      <th>3</th>\n",
       "      <td>4.0</td>\n",
       "      <td>2.0</td>\n",
       "      <td>ital_supr_l</td>\n",
       "      <td>1.0</td>\n",
       "      <td>1/1/2015</td>\n",
       "      <td>11:57:40</td>\n",
       "      <td>20.75</td>\n",
       "      <td>20.75</td>\n",
       "      <td>L</td>\n",
       "      <td>Supreme</td>\n",
       "      <td>Calabrese Salami, Capocollo, Tomatoes, Red Oni...</td>\n",
       "      <td>The Italian Supreme Pizza</td>\n",
       "      <td>2.0</td>\n",
       "    </tr>\n",
       "    <tr>\n",
       "      <th>4</th>\n",
       "      <td>5.0</td>\n",
       "      <td>2.0</td>\n",
       "      <td>mexicana_m</td>\n",
       "      <td>1.0</td>\n",
       "      <td>1/1/2015</td>\n",
       "      <td>11:57:40</td>\n",
       "      <td>16.00</td>\n",
       "      <td>16.00</td>\n",
       "      <td>M</td>\n",
       "      <td>Veggie</td>\n",
       "      <td>Tomatoes, Red Peppers, Jalapeno Peppers, Red O...</td>\n",
       "      <td>The Mexicana Pizza</td>\n",
       "      <td>2.0</td>\n",
       "    </tr>\n",
       "  </tbody>\n",
       "</table>\n",
       "</div>"
      ],
      "text/plain": [
       "   pizza_id  order_id  pizza_name_id  quantity order_date order_time  \\\n",
       "0       1.0       1.0     hawaiian_m       1.0   1/1/2015   11:38:36   \n",
       "1       2.0       2.0  classic_dlx_m       1.0   1/1/2015   11:57:40   \n",
       "2       3.0       2.0  five_cheese_l       1.0   1/1/2015   11:57:40   \n",
       "3       4.0       2.0    ital_supr_l       1.0   1/1/2015   11:57:40   \n",
       "4       5.0       2.0     mexicana_m       1.0   1/1/2015   11:57:40   \n",
       "\n",
       "   unit_price  total_price pizza_size pizza_category  \\\n",
       "0       13.25        13.25          M        Classic   \n",
       "1       16.00        16.00          M        Classic   \n",
       "2       18.50        18.50          L         Veggie   \n",
       "3       20.75        20.75          L        Supreme   \n",
       "4       16.00        16.00          M         Veggie   \n",
       "\n",
       "                                   pizza_ingredients  \\\n",
       "0           Sliced Ham, Pineapple, Mozzarella Cheese   \n",
       "1  Pepperoni, Mushrooms, Red Onions, Red Peppers,...   \n",
       "2  Mozzarella Cheese, Provolone Cheese, Smoked Go...   \n",
       "3  Calabrese Salami, Capocollo, Tomatoes, Red Oni...   \n",
       "4  Tomatoes, Red Peppers, Jalapeno Peppers, Red O...   \n",
       "\n",
       "                  pizza_name  date_id  \n",
       "0         The Hawaiian Pizza      1.0  \n",
       "1   The Classic Deluxe Pizza      2.0  \n",
       "2      The Five Cheese Pizza      2.0  \n",
       "3  The Italian Supreme Pizza      2.0  \n",
       "4         The Mexicana Pizza      2.0  "
      ]
     },
     "execution_count": 57,
     "metadata": {},
     "output_type": "execute_result"
    }
   ],
   "source": [
    "df.head()"
   ]
  },
  {
   "cell_type": "code",
   "execution_count": 58,
   "id": "b2c6be7f-5b78-43ea-8a61-cde5b1fc29e0",
   "metadata": {},
   "outputs": [
    {
     "data": {
      "text/plain": [
       "pizza_id             float64\n",
       "order_id             float64\n",
       "pizza_name_id         object\n",
       "quantity             float64\n",
       "order_date            object\n",
       "order_time            object\n",
       "unit_price           float64\n",
       "total_price          float64\n",
       "pizza_size            object\n",
       "pizza_category        object\n",
       "pizza_ingredients     object\n",
       "pizza_name            object\n",
       "date_id              float64\n",
       "dtype: object"
      ]
     },
     "execution_count": 58,
     "metadata": {},
     "output_type": "execute_result"
    }
   ],
   "source": [
    "df.dtypes"
   ]
  },
  {
   "cell_type": "code",
   "execution_count": 59,
   "id": "fd7af3e0-a013-4ab6-ac30-f16eae765ebc",
   "metadata": {},
   "outputs": [
    {
     "data": {
      "text/plain": [
       "date_id        int64\n",
       "order_date    object\n",
       "order_time    object\n",
       "day            int32\n",
       "month          int32\n",
       "year           int32\n",
       "dtype: object"
      ]
     },
     "execution_count": 59,
     "metadata": {},
     "output_type": "execute_result"
    }
   ],
   "source": [
    "date_dim.dtypes"
   ]
  },
  {
   "cell_type": "code",
   "execution_count": 60,
   "id": "dadf74bc-f83f-440e-84be-db14bff5a3fe",
   "metadata": {},
   "outputs": [
    {
     "data": {
      "text/plain": [
       "pizza_id             float64\n",
       "order_id             float64\n",
       "pizza_name_id         object\n",
       "quantity             float64\n",
       "order_date            object\n",
       "order_time            object\n",
       "unit_price           float64\n",
       "total_price          float64\n",
       "pizza_size            object\n",
       "pizza_category        object\n",
       "pizza_ingredients     object\n",
       "pizza_name            object\n",
       "date_id                Int64\n",
       "dtype: object"
      ]
     },
     "execution_count": 60,
     "metadata": {},
     "output_type": "execute_result"
    }
   ],
   "source": [
    "df['date_id']=df['date_id'].astype('Int64')\n",
    "df.dtypes"
   ]
  },
  {
   "cell_type": "markdown",
   "id": "9b14beea-5879-4b13-a458-154be3a68322",
   "metadata": {},
   "source": [
    "# pizza category Dimension"
   ]
  },
  {
   "cell_type": "code",
   "execution_count": 61,
   "id": "6d2af4a4-3ca0-4791-9989-7282bfc8e0b0",
   "metadata": {},
   "outputs": [],
   "source": [
    "pizza_category_dim = df[[\n",
    "    'pizza_name_id',\n",
    "    'pizza_category',\n",
    "    'pizza_ingredients'\n",
    "]].drop_duplicates().reset_index(drop=True)"
   ]
  },
  {
   "cell_type": "code",
   "execution_count": 62,
   "id": "666e6a91-34a3-4c63-a8d9-180629ff03ed",
   "metadata": {},
   "outputs": [
    {
     "data": {
      "text/html": [
       "<div>\n",
       "<style scoped>\n",
       "    .dataframe tbody tr th:only-of-type {\n",
       "        vertical-align: middle;\n",
       "    }\n",
       "\n",
       "    .dataframe tbody tr th {\n",
       "        vertical-align: top;\n",
       "    }\n",
       "\n",
       "    .dataframe thead th {\n",
       "        text-align: right;\n",
       "    }\n",
       "</style>\n",
       "<table border=\"1\" class=\"dataframe\">\n",
       "  <thead>\n",
       "    <tr style=\"text-align: right;\">\n",
       "      <th></th>\n",
       "      <th>pizza_name_id</th>\n",
       "      <th>pizza_category</th>\n",
       "      <th>pizza_ingredients</th>\n",
       "    </tr>\n",
       "  </thead>\n",
       "  <tbody>\n",
       "    <tr>\n",
       "      <th>0</th>\n",
       "      <td>hawaiian_m</td>\n",
       "      <td>Classic</td>\n",
       "      <td>Sliced Ham, Pineapple, Mozzarella Cheese</td>\n",
       "    </tr>\n",
       "    <tr>\n",
       "      <th>1</th>\n",
       "      <td>classic_dlx_m</td>\n",
       "      <td>Classic</td>\n",
       "      <td>Pepperoni, Mushrooms, Red Onions, Red Peppers,...</td>\n",
       "    </tr>\n",
       "    <tr>\n",
       "      <th>2</th>\n",
       "      <td>five_cheese_l</td>\n",
       "      <td>Veggie</td>\n",
       "      <td>Mozzarella Cheese, Provolone Cheese, Smoked Go...</td>\n",
       "    </tr>\n",
       "    <tr>\n",
       "      <th>3</th>\n",
       "      <td>ital_supr_l</td>\n",
       "      <td>Supreme</td>\n",
       "      <td>Calabrese Salami, Capocollo, Tomatoes, Red Oni...</td>\n",
       "    </tr>\n",
       "    <tr>\n",
       "      <th>4</th>\n",
       "      <td>mexicana_m</td>\n",
       "      <td>Veggie</td>\n",
       "      <td>Tomatoes, Red Peppers, Jalapeno Peppers, Red O...</td>\n",
       "    </tr>\n",
       "    <tr>\n",
       "      <th>...</th>\n",
       "      <td>...</td>\n",
       "      <td>...</td>\n",
       "      <td>...</td>\n",
       "    </tr>\n",
       "    <tr>\n",
       "      <th>86</th>\n",
       "      <td>the_greek_l</td>\n",
       "      <td>Classic</td>\n",
       "      <td>Kalamata Olives, Feta Cheese, Tomatoes, Garlic...</td>\n",
       "    </tr>\n",
       "    <tr>\n",
       "      <th>87</th>\n",
       "      <td>soppressata_m</td>\n",
       "      <td>Supreme</td>\n",
       "      <td>Soppressata Salami, Fontina Cheese, Mozzarella...</td>\n",
       "    </tr>\n",
       "    <tr>\n",
       "      <th>88</th>\n",
       "      <td>soppressata_s</td>\n",
       "      <td>Supreme</td>\n",
       "      <td>Soppressata Salami, Fontina Cheese, Mozzarella...</td>\n",
       "    </tr>\n",
       "    <tr>\n",
       "      <th>89</th>\n",
       "      <td>calabrese_l</td>\n",
       "      <td>Supreme</td>\n",
       "      <td>?duja Salami, Pancetta, Tomatoes, Red Onions, ...</td>\n",
       "    </tr>\n",
       "    <tr>\n",
       "      <th>90</th>\n",
       "      <td>the_greek_xxl</td>\n",
       "      <td>Classic</td>\n",
       "      <td>Kalamata Olives, Feta Cheese, Tomatoes, Garlic...</td>\n",
       "    </tr>\n",
       "  </tbody>\n",
       "</table>\n",
       "<p>91 rows × 3 columns</p>\n",
       "</div>"
      ],
      "text/plain": [
       "    pizza_name_id pizza_category  \\\n",
       "0      hawaiian_m        Classic   \n",
       "1   classic_dlx_m        Classic   \n",
       "2   five_cheese_l         Veggie   \n",
       "3     ital_supr_l        Supreme   \n",
       "4      mexicana_m         Veggie   \n",
       "..            ...            ...   \n",
       "86    the_greek_l        Classic   \n",
       "87  soppressata_m        Supreme   \n",
       "88  soppressata_s        Supreme   \n",
       "89    calabrese_l        Supreme   \n",
       "90  the_greek_xxl        Classic   \n",
       "\n",
       "                                    pizza_ingredients  \n",
       "0            Sliced Ham, Pineapple, Mozzarella Cheese  \n",
       "1   Pepperoni, Mushrooms, Red Onions, Red Peppers,...  \n",
       "2   Mozzarella Cheese, Provolone Cheese, Smoked Go...  \n",
       "3   Calabrese Salami, Capocollo, Tomatoes, Red Oni...  \n",
       "4   Tomatoes, Red Peppers, Jalapeno Peppers, Red O...  \n",
       "..                                                ...  \n",
       "86  Kalamata Olives, Feta Cheese, Tomatoes, Garlic...  \n",
       "87  Soppressata Salami, Fontina Cheese, Mozzarella...  \n",
       "88  Soppressata Salami, Fontina Cheese, Mozzarella...  \n",
       "89  ?duja Salami, Pancetta, Tomatoes, Red Onions, ...  \n",
       "90  Kalamata Olives, Feta Cheese, Tomatoes, Garlic...  \n",
       "\n",
       "[91 rows x 3 columns]"
      ]
     },
     "execution_count": 62,
     "metadata": {},
     "output_type": "execute_result"
    }
   ],
   "source": [
    "pizza_category_dim"
   ]
  },
  {
   "cell_type": "code",
   "execution_count": 66,
   "id": "c8f1fac6-8b39-4fe0-b34f-54783b81f4a4",
   "metadata": {},
   "outputs": [
    {
     "data": {
      "text/plain": [
       "True"
      ]
     },
     "execution_count": 66,
     "metadata": {},
     "output_type": "execute_result"
    }
   ],
   "source": [
    "pizza_category_dim['pizza_name_id'].is_unique"
   ]
  },
  {
   "cell_type": "code",
   "execution_count": 63,
   "id": "8687fec0-07a9-4acb-91ec-57bec0998d83",
   "metadata": {},
   "outputs": [
    {
     "data": {
      "text/plain": [
       "pizza_name_id        object\n",
       "pizza_category       object\n",
       "pizza_ingredients    object\n",
       "dtype: object"
      ]
     },
     "execution_count": 63,
     "metadata": {},
     "output_type": "execute_result"
    }
   ],
   "source": [
    "pizza_category_dim.dtypes"
   ]
  },
  {
   "cell_type": "code",
   "execution_count": 69,
   "id": "4905a1aa-ba93-4626-ba33-be2906b0596e",
   "metadata": {},
   "outputs": [
    {
     "data": {
      "text/plain": [
       "pizza_id             float64\n",
       "order_id             float64\n",
       "pizza_name_id         object\n",
       "quantity             float64\n",
       "order_date            object\n",
       "order_time            object\n",
       "unit_price           float64\n",
       "total_price          float64\n",
       "pizza_size            object\n",
       "pizza_category        object\n",
       "pizza_ingredients     object\n",
       "pizza_name            object\n",
       "date_id                Int64\n",
       "dtype: object"
      ]
     },
     "execution_count": 69,
     "metadata": {},
     "output_type": "execute_result"
    }
   ],
   "source": [
    "df.dtypes"
   ]
  },
  {
   "cell_type": "markdown",
   "id": "a64c74f7-428b-4053-8dc1-91c4aa52f43f",
   "metadata": {},
   "source": [
    "# pizza Dimension"
   ]
  },
  {
   "cell_type": "code",
   "execution_count": 70,
   "id": "10ea1458-9076-46b3-b46b-a4fab67d0091",
   "metadata": {},
   "outputs": [],
   "source": [
    "pizza_dim = df[[\n",
    "    'pizza_id',\n",
    "    'pizza_name_id',\n",
    "    'pizza_name',\n",
    "    'pizza_size',\n",
    "    'unit_price'\n",
    "]].drop_duplicates().reset_index(drop=True)"
   ]
  },
  {
   "cell_type": "code",
   "execution_count": 71,
   "id": "8f90709a-46d5-4a91-847d-98622a65833b",
   "metadata": {},
   "outputs": [
    {
     "data": {
      "text/html": [
       "<div>\n",
       "<style scoped>\n",
       "    .dataframe tbody tr th:only-of-type {\n",
       "        vertical-align: middle;\n",
       "    }\n",
       "\n",
       "    .dataframe tbody tr th {\n",
       "        vertical-align: top;\n",
       "    }\n",
       "\n",
       "    .dataframe thead th {\n",
       "        text-align: right;\n",
       "    }\n",
       "</style>\n",
       "<table border=\"1\" class=\"dataframe\">\n",
       "  <thead>\n",
       "    <tr style=\"text-align: right;\">\n",
       "      <th></th>\n",
       "      <th>pizza_id</th>\n",
       "      <th>pizza_name_id</th>\n",
       "      <th>pizza_name</th>\n",
       "      <th>pizza_size</th>\n",
       "      <th>unit_price</th>\n",
       "    </tr>\n",
       "  </thead>\n",
       "  <tbody>\n",
       "    <tr>\n",
       "      <th>0</th>\n",
       "      <td>1.0</td>\n",
       "      <td>hawaiian_m</td>\n",
       "      <td>The Hawaiian Pizza</td>\n",
       "      <td>M</td>\n",
       "      <td>13.25</td>\n",
       "    </tr>\n",
       "    <tr>\n",
       "      <th>1</th>\n",
       "      <td>2.0</td>\n",
       "      <td>classic_dlx_m</td>\n",
       "      <td>The Classic Deluxe Pizza</td>\n",
       "      <td>M</td>\n",
       "      <td>16.00</td>\n",
       "    </tr>\n",
       "    <tr>\n",
       "      <th>2</th>\n",
       "      <td>3.0</td>\n",
       "      <td>five_cheese_l</td>\n",
       "      <td>The Five Cheese Pizza</td>\n",
       "      <td>L</td>\n",
       "      <td>18.50</td>\n",
       "    </tr>\n",
       "    <tr>\n",
       "      <th>3</th>\n",
       "      <td>4.0</td>\n",
       "      <td>ital_supr_l</td>\n",
       "      <td>The Italian Supreme Pizza</td>\n",
       "      <td>L</td>\n",
       "      <td>20.75</td>\n",
       "    </tr>\n",
       "    <tr>\n",
       "      <th>4</th>\n",
       "      <td>5.0</td>\n",
       "      <td>mexicana_m</td>\n",
       "      <td>The Mexicana Pizza</td>\n",
       "      <td>M</td>\n",
       "      <td>16.00</td>\n",
       "    </tr>\n",
       "    <tr>\n",
       "      <th>...</th>\n",
       "      <td>...</td>\n",
       "      <td>...</td>\n",
       "      <td>...</td>\n",
       "      <td>...</td>\n",
       "      <td>...</td>\n",
       "    </tr>\n",
       "    <tr>\n",
       "      <th>48615</th>\n",
       "      <td>48616.0</td>\n",
       "      <td>ckn_alfredo_m</td>\n",
       "      <td>The Chicken Alfredo Pizza</td>\n",
       "      <td>M</td>\n",
       "      <td>16.75</td>\n",
       "    </tr>\n",
       "    <tr>\n",
       "      <th>48616</th>\n",
       "      <td>48617.0</td>\n",
       "      <td>four_cheese_l</td>\n",
       "      <td>The Four Cheese Pizza</td>\n",
       "      <td>L</td>\n",
       "      <td>17.95</td>\n",
       "    </tr>\n",
       "    <tr>\n",
       "      <th>48617</th>\n",
       "      <td>48618.0</td>\n",
       "      <td>napolitana_s</td>\n",
       "      <td>The Napolitana Pizza</td>\n",
       "      <td>S</td>\n",
       "      <td>12.00</td>\n",
       "    </tr>\n",
       "    <tr>\n",
       "      <th>48618</th>\n",
       "      <td>48619.0</td>\n",
       "      <td>mexicana_l</td>\n",
       "      <td>The Mexicana Pizza</td>\n",
       "      <td>L</td>\n",
       "      <td>20.25</td>\n",
       "    </tr>\n",
       "    <tr>\n",
       "      <th>48619</th>\n",
       "      <td>48620.0</td>\n",
       "      <td>bbq_ckn_s</td>\n",
       "      <td>The Barbecue Chicken Pizza</td>\n",
       "      <td>S</td>\n",
       "      <td>12.75</td>\n",
       "    </tr>\n",
       "  </tbody>\n",
       "</table>\n",
       "<p>48620 rows × 5 columns</p>\n",
       "</div>"
      ],
      "text/plain": [
       "       pizza_id  pizza_name_id                  pizza_name pizza_size  \\\n",
       "0           1.0     hawaiian_m          The Hawaiian Pizza          M   \n",
       "1           2.0  classic_dlx_m    The Classic Deluxe Pizza          M   \n",
       "2           3.0  five_cheese_l       The Five Cheese Pizza          L   \n",
       "3           4.0    ital_supr_l   The Italian Supreme Pizza          L   \n",
       "4           5.0     mexicana_m          The Mexicana Pizza          M   \n",
       "...         ...            ...                         ...        ...   \n",
       "48615   48616.0  ckn_alfredo_m   The Chicken Alfredo Pizza          M   \n",
       "48616   48617.0  four_cheese_l       The Four Cheese Pizza          L   \n",
       "48617   48618.0   napolitana_s        The Napolitana Pizza          S   \n",
       "48618   48619.0     mexicana_l          The Mexicana Pizza          L   \n",
       "48619   48620.0      bbq_ckn_s  The Barbecue Chicken Pizza          S   \n",
       "\n",
       "       unit_price  \n",
       "0           13.25  \n",
       "1           16.00  \n",
       "2           18.50  \n",
       "3           20.75  \n",
       "4           16.00  \n",
       "...           ...  \n",
       "48615       16.75  \n",
       "48616       17.95  \n",
       "48617       12.00  \n",
       "48618       20.25  \n",
       "48619       12.75  \n",
       "\n",
       "[48620 rows x 5 columns]"
      ]
     },
     "execution_count": 71,
     "metadata": {},
     "output_type": "execute_result"
    }
   ],
   "source": [
    "pizza_dim"
   ]
  },
  {
   "cell_type": "code",
   "execution_count": 72,
   "id": "69e51a74-1407-4d22-9534-07923629d5ba",
   "metadata": {},
   "outputs": [
    {
     "data": {
      "text/plain": [
       "pizza_id         float64\n",
       "pizza_name_id     object\n",
       "pizza_name        object\n",
       "pizza_size        object\n",
       "unit_price       float64\n",
       "dtype: object"
      ]
     },
     "execution_count": 72,
     "metadata": {},
     "output_type": "execute_result"
    }
   ],
   "source": [
    "pizza_dim.dtypes"
   ]
  },
  {
   "cell_type": "code",
   "execution_count": 73,
   "id": "736615bb-2fa9-43d5-9c88-56b2746a6d94",
   "metadata": {},
   "outputs": [],
   "source": [
    "pizza_dim['pizza_id']=pizza_dim['pizza_id'].astype('Int64')\n",
    "df['pizza_id']=df['pizza_id'].astype('Int64')"
   ]
  },
  {
   "cell_type": "code",
   "execution_count": 74,
   "id": "50bd3be7-285a-4f3f-a2e3-ed0246aed394",
   "metadata": {},
   "outputs": [
    {
     "data": {
      "text/plain": [
       "pizza_id           Int64\n",
       "pizza_name_id     object\n",
       "pizza_name        object\n",
       "pizza_size        object\n",
       "unit_price       float64\n",
       "dtype: object"
      ]
     },
     "execution_count": 74,
     "metadata": {},
     "output_type": "execute_result"
    }
   ],
   "source": [
    "pizza_dim.dtypes"
   ]
  },
  {
   "cell_type": "code",
   "execution_count": 75,
   "id": "1df082e6-7ec3-46ce-acd5-105c9c4da22e",
   "metadata": {},
   "outputs": [
    {
     "data": {
      "text/plain": [
       "pizza_id               Int64\n",
       "order_id             float64\n",
       "pizza_name_id         object\n",
       "quantity             float64\n",
       "order_date            object\n",
       "order_time            object\n",
       "unit_price           float64\n",
       "total_price          float64\n",
       "pizza_size            object\n",
       "pizza_category        object\n",
       "pizza_ingredients     object\n",
       "pizza_name            object\n",
       "date_id                Int64\n",
       "dtype: object"
      ]
     },
     "execution_count": 75,
     "metadata": {},
     "output_type": "execute_result"
    }
   ],
   "source": [
    "df.dtypes"
   ]
  },
  {
   "cell_type": "code",
   "execution_count": 76,
   "id": "6af9584b-a7bc-4682-9ffb-bde45ef5f914",
   "metadata": {},
   "outputs": [
    {
     "data": {
      "text/plain": [
       "True"
      ]
     },
     "execution_count": 76,
     "metadata": {},
     "output_type": "execute_result"
    }
   ],
   "source": [
    "pizza_dim['pizza_id'].is_unique"
   ]
  },
  {
   "cell_type": "markdown",
   "id": "6763174e-ba2f-48f4-bb69-832e3fdf1457",
   "metadata": {},
   "source": [
    "# order fact"
   ]
  },
  {
   "cell_type": "code",
   "execution_count": 77,
   "id": "2dd914e2-4462-4eb1-8186-7b66f8818d78",
   "metadata": {},
   "outputs": [
    {
     "data": {
      "text/plain": [
       "False"
      ]
     },
     "execution_count": 77,
     "metadata": {},
     "output_type": "execute_result"
    }
   ],
   "source": [
    "df['order_id'].is_unique"
   ]
  },
  {
   "cell_type": "code",
   "execution_count": 78,
   "id": "a320df1c-d793-478b-b4a8-dd3065c76d4d",
   "metadata": {},
   "outputs": [
    {
     "data": {
      "text/plain": [
       "False"
      ]
     },
     "execution_count": 78,
     "metadata": {},
     "output_type": "execute_result"
    }
   ],
   "source": [
    "df[['order_id', 'pizza_id']].duplicated().any()"
   ]
  },
  {
   "cell_type": "code",
   "execution_count": 79,
   "id": "9c53e5d7-316a-45dc-b896-8c5cb78ffb72",
   "metadata": {},
   "outputs": [],
   "source": [
    "order_fact = df[['order_id', 'pizza_id', 'quantity', 'total_price', 'date_id']].copy()"
   ]
  },
  {
   "cell_type": "code",
   "execution_count": 80,
   "id": "d2cb0f0b-5180-429f-b9fe-e4977d9c9cfb",
   "metadata": {},
   "outputs": [
    {
     "data": {
      "text/html": [
       "<div>\n",
       "<style scoped>\n",
       "    .dataframe tbody tr th:only-of-type {\n",
       "        vertical-align: middle;\n",
       "    }\n",
       "\n",
       "    .dataframe tbody tr th {\n",
       "        vertical-align: top;\n",
       "    }\n",
       "\n",
       "    .dataframe thead th {\n",
       "        text-align: right;\n",
       "    }\n",
       "</style>\n",
       "<table border=\"1\" class=\"dataframe\">\n",
       "  <thead>\n",
       "    <tr style=\"text-align: right;\">\n",
       "      <th></th>\n",
       "      <th>order_id</th>\n",
       "      <th>pizza_id</th>\n",
       "      <th>quantity</th>\n",
       "      <th>total_price</th>\n",
       "      <th>date_id</th>\n",
       "    </tr>\n",
       "  </thead>\n",
       "  <tbody>\n",
       "    <tr>\n",
       "      <th>0</th>\n",
       "      <td>1.0</td>\n",
       "      <td>1</td>\n",
       "      <td>1.0</td>\n",
       "      <td>13.25</td>\n",
       "      <td>1</td>\n",
       "    </tr>\n",
       "    <tr>\n",
       "      <th>1</th>\n",
       "      <td>2.0</td>\n",
       "      <td>2</td>\n",
       "      <td>1.0</td>\n",
       "      <td>16.00</td>\n",
       "      <td>2</td>\n",
       "    </tr>\n",
       "    <tr>\n",
       "      <th>2</th>\n",
       "      <td>2.0</td>\n",
       "      <td>3</td>\n",
       "      <td>1.0</td>\n",
       "      <td>18.50</td>\n",
       "      <td>2</td>\n",
       "    </tr>\n",
       "    <tr>\n",
       "      <th>3</th>\n",
       "      <td>2.0</td>\n",
       "      <td>4</td>\n",
       "      <td>1.0</td>\n",
       "      <td>20.75</td>\n",
       "      <td>2</td>\n",
       "    </tr>\n",
       "    <tr>\n",
       "      <th>4</th>\n",
       "      <td>2.0</td>\n",
       "      <td>5</td>\n",
       "      <td>1.0</td>\n",
       "      <td>16.00</td>\n",
       "      <td>2</td>\n",
       "    </tr>\n",
       "    <tr>\n",
       "      <th>...</th>\n",
       "      <td>...</td>\n",
       "      <td>...</td>\n",
       "      <td>...</td>\n",
       "      <td>...</td>\n",
       "      <td>...</td>\n",
       "    </tr>\n",
       "    <tr>\n",
       "      <th>48615</th>\n",
       "      <td>21348.0</td>\n",
       "      <td>48616</td>\n",
       "      <td>1.0</td>\n",
       "      <td>16.75</td>\n",
       "      <td>&lt;NA&gt;</td>\n",
       "    </tr>\n",
       "    <tr>\n",
       "      <th>48616</th>\n",
       "      <td>21348.0</td>\n",
       "      <td>48617</td>\n",
       "      <td>1.0</td>\n",
       "      <td>17.95</td>\n",
       "      <td>&lt;NA&gt;</td>\n",
       "    </tr>\n",
       "    <tr>\n",
       "      <th>48617</th>\n",
       "      <td>21348.0</td>\n",
       "      <td>48618</td>\n",
       "      <td>1.0</td>\n",
       "      <td>12.00</td>\n",
       "      <td>&lt;NA&gt;</td>\n",
       "    </tr>\n",
       "    <tr>\n",
       "      <th>48618</th>\n",
       "      <td>21349.0</td>\n",
       "      <td>48619</td>\n",
       "      <td>1.0</td>\n",
       "      <td>20.25</td>\n",
       "      <td>&lt;NA&gt;</td>\n",
       "    </tr>\n",
       "    <tr>\n",
       "      <th>48619</th>\n",
       "      <td>21350.0</td>\n",
       "      <td>48620</td>\n",
       "      <td>1.0</td>\n",
       "      <td>12.75</td>\n",
       "      <td>&lt;NA&gt;</td>\n",
       "    </tr>\n",
       "  </tbody>\n",
       "</table>\n",
       "<p>48620 rows × 5 columns</p>\n",
       "</div>"
      ],
      "text/plain": [
       "       order_id  pizza_id  quantity  total_price  date_id\n",
       "0           1.0         1       1.0        13.25        1\n",
       "1           2.0         2       1.0        16.00        2\n",
       "2           2.0         3       1.0        18.50        2\n",
       "3           2.0         4       1.0        20.75        2\n",
       "4           2.0         5       1.0        16.00        2\n",
       "...         ...       ...       ...          ...      ...\n",
       "48615   21348.0     48616       1.0        16.75     <NA>\n",
       "48616   21348.0     48617       1.0        17.95     <NA>\n",
       "48617   21348.0     48618       1.0        12.00     <NA>\n",
       "48618   21349.0     48619       1.0        20.25     <NA>\n",
       "48619   21350.0     48620       1.0        12.75     <NA>\n",
       "\n",
       "[48620 rows x 5 columns]"
      ]
     },
     "execution_count": 80,
     "metadata": {},
     "output_type": "execute_result"
    }
   ],
   "source": [
    "order_fact"
   ]
  },
  {
   "cell_type": "code",
   "execution_count": 81,
   "id": "cdfcea6b-1c33-4369-ac7f-138bd44f4032",
   "metadata": {},
   "outputs": [],
   "source": [
    "order_fact = order_fact.reset_index(drop=True)\n",
    "order_fact['order_fact_SK'] = order_fact.index + 1"
   ]
  },
  {
   "cell_type": "code",
   "execution_count": 82,
   "id": "00156a1c-6823-462d-ac23-1fc2d9164a9a",
   "metadata": {},
   "outputs": [
    {
     "data": {
      "text/plain": [
       "True"
      ]
     },
     "execution_count": 82,
     "metadata": {},
     "output_type": "execute_result"
    }
   ],
   "source": [
    "order_fact['order_fact_SK'].is_unique"
   ]
  },
  {
   "cell_type": "code",
   "execution_count": 83,
   "id": "0d8d40a1-4fb9-492b-9b9b-f26537dbb60b",
   "metadata": {},
   "outputs": [
    {
     "data": {
      "text/html": [
       "<div>\n",
       "<style scoped>\n",
       "    .dataframe tbody tr th:only-of-type {\n",
       "        vertical-align: middle;\n",
       "    }\n",
       "\n",
       "    .dataframe tbody tr th {\n",
       "        vertical-align: top;\n",
       "    }\n",
       "\n",
       "    .dataframe thead th {\n",
       "        text-align: right;\n",
       "    }\n",
       "</style>\n",
       "<table border=\"1\" class=\"dataframe\">\n",
       "  <thead>\n",
       "    <tr style=\"text-align: right;\">\n",
       "      <th></th>\n",
       "      <th>order_id</th>\n",
       "      <th>pizza_id</th>\n",
       "      <th>quantity</th>\n",
       "      <th>total_price</th>\n",
       "      <th>date_id</th>\n",
       "      <th>order_fact_SK</th>\n",
       "    </tr>\n",
       "  </thead>\n",
       "  <tbody>\n",
       "    <tr>\n",
       "      <th>0</th>\n",
       "      <td>1.0</td>\n",
       "      <td>1</td>\n",
       "      <td>1.0</td>\n",
       "      <td>13.25</td>\n",
       "      <td>1</td>\n",
       "      <td>1</td>\n",
       "    </tr>\n",
       "    <tr>\n",
       "      <th>1</th>\n",
       "      <td>2.0</td>\n",
       "      <td>2</td>\n",
       "      <td>1.0</td>\n",
       "      <td>16.00</td>\n",
       "      <td>2</td>\n",
       "      <td>2</td>\n",
       "    </tr>\n",
       "    <tr>\n",
       "      <th>2</th>\n",
       "      <td>2.0</td>\n",
       "      <td>3</td>\n",
       "      <td>1.0</td>\n",
       "      <td>18.50</td>\n",
       "      <td>2</td>\n",
       "      <td>3</td>\n",
       "    </tr>\n",
       "    <tr>\n",
       "      <th>3</th>\n",
       "      <td>2.0</td>\n",
       "      <td>4</td>\n",
       "      <td>1.0</td>\n",
       "      <td>20.75</td>\n",
       "      <td>2</td>\n",
       "      <td>4</td>\n",
       "    </tr>\n",
       "    <tr>\n",
       "      <th>4</th>\n",
       "      <td>2.0</td>\n",
       "      <td>5</td>\n",
       "      <td>1.0</td>\n",
       "      <td>16.00</td>\n",
       "      <td>2</td>\n",
       "      <td>5</td>\n",
       "    </tr>\n",
       "    <tr>\n",
       "      <th>...</th>\n",
       "      <td>...</td>\n",
       "      <td>...</td>\n",
       "      <td>...</td>\n",
       "      <td>...</td>\n",
       "      <td>...</td>\n",
       "      <td>...</td>\n",
       "    </tr>\n",
       "    <tr>\n",
       "      <th>48615</th>\n",
       "      <td>21348.0</td>\n",
       "      <td>48616</td>\n",
       "      <td>1.0</td>\n",
       "      <td>16.75</td>\n",
       "      <td>&lt;NA&gt;</td>\n",
       "      <td>48616</td>\n",
       "    </tr>\n",
       "    <tr>\n",
       "      <th>48616</th>\n",
       "      <td>21348.0</td>\n",
       "      <td>48617</td>\n",
       "      <td>1.0</td>\n",
       "      <td>17.95</td>\n",
       "      <td>&lt;NA&gt;</td>\n",
       "      <td>48617</td>\n",
       "    </tr>\n",
       "    <tr>\n",
       "      <th>48617</th>\n",
       "      <td>21348.0</td>\n",
       "      <td>48618</td>\n",
       "      <td>1.0</td>\n",
       "      <td>12.00</td>\n",
       "      <td>&lt;NA&gt;</td>\n",
       "      <td>48618</td>\n",
       "    </tr>\n",
       "    <tr>\n",
       "      <th>48618</th>\n",
       "      <td>21349.0</td>\n",
       "      <td>48619</td>\n",
       "      <td>1.0</td>\n",
       "      <td>20.25</td>\n",
       "      <td>&lt;NA&gt;</td>\n",
       "      <td>48619</td>\n",
       "    </tr>\n",
       "    <tr>\n",
       "      <th>48619</th>\n",
       "      <td>21350.0</td>\n",
       "      <td>48620</td>\n",
       "      <td>1.0</td>\n",
       "      <td>12.75</td>\n",
       "      <td>&lt;NA&gt;</td>\n",
       "      <td>48620</td>\n",
       "    </tr>\n",
       "  </tbody>\n",
       "</table>\n",
       "<p>48620 rows × 6 columns</p>\n",
       "</div>"
      ],
      "text/plain": [
       "       order_id  pizza_id  quantity  total_price  date_id  order_fact_SK\n",
       "0           1.0         1       1.0        13.25        1              1\n",
       "1           2.0         2       1.0        16.00        2              2\n",
       "2           2.0         3       1.0        18.50        2              3\n",
       "3           2.0         4       1.0        20.75        2              4\n",
       "4           2.0         5       1.0        16.00        2              5\n",
       "...         ...       ...       ...          ...      ...            ...\n",
       "48615   21348.0     48616       1.0        16.75     <NA>          48616\n",
       "48616   21348.0     48617       1.0        17.95     <NA>          48617\n",
       "48617   21348.0     48618       1.0        12.00     <NA>          48618\n",
       "48618   21349.0     48619       1.0        20.25     <NA>          48619\n",
       "48619   21350.0     48620       1.0        12.75     <NA>          48620\n",
       "\n",
       "[48620 rows x 6 columns]"
      ]
     },
     "execution_count": 83,
     "metadata": {},
     "output_type": "execute_result"
    }
   ],
   "source": [
    "order_fact"
   ]
  },
  {
   "cell_type": "code",
   "execution_count": 84,
   "id": "9f297feb-259a-4a27-99c1-a13b26b8064b",
   "metadata": {},
   "outputs": [
    {
     "data": {
      "text/plain": [
       "order_id         float64\n",
       "pizza_id           Int64\n",
       "quantity         float64\n",
       "total_price      float64\n",
       "date_id            Int64\n",
       "order_fact_SK      int64\n",
       "dtype: object"
      ]
     },
     "execution_count": 84,
     "metadata": {},
     "output_type": "execute_result"
    }
   ],
   "source": [
    "order_fact.dtypes"
   ]
  },
  {
   "cell_type": "code",
   "execution_count": 85,
   "id": "406c5be6-6b62-4ffa-8ebe-0cdde6743e38",
   "metadata": {},
   "outputs": [
    {
     "data": {
      "text/plain": [
       "pizza_id               Int64\n",
       "order_id             float64\n",
       "pizza_name_id         object\n",
       "quantity             float64\n",
       "order_date            object\n",
       "order_time            object\n",
       "unit_price           float64\n",
       "total_price          float64\n",
       "pizza_size            object\n",
       "pizza_category        object\n",
       "pizza_ingredients     object\n",
       "pizza_name            object\n",
       "date_id                Int64\n",
       "dtype: object"
      ]
     },
     "execution_count": 85,
     "metadata": {},
     "output_type": "execute_result"
    }
   ],
   "source": [
    "df.dtypes"
   ]
  },
  {
   "cell_type": "code",
   "execution_count": 86,
   "id": "74b93ab9-284e-4d40-8992-1488dde40c37",
   "metadata": {},
   "outputs": [],
   "source": [
    "order_fact['order_id']=order_fact['order_id'].astype('Int64')\n",
    "df['order_id']=df['order_id'].astype('Int64')"
   ]
  },
  {
   "cell_type": "code",
   "execution_count": 87,
   "id": "2484c7ef-abbf-43ec-b0f3-cfc5fec7c295",
   "metadata": {},
   "outputs": [
    {
     "data": {
      "text/plain": [
       "order_id           Int64\n",
       "pizza_id           Int64\n",
       "quantity         float64\n",
       "total_price      float64\n",
       "date_id            Int64\n",
       "order_fact_SK      int64\n",
       "dtype: object"
      ]
     },
     "execution_count": 87,
     "metadata": {},
     "output_type": "execute_result"
    }
   ],
   "source": [
    "order_fact.dtypes"
   ]
  },
  {
   "cell_type": "code",
   "execution_count": 88,
   "id": "baf692d2-2930-4775-b14c-d42854c71aeb",
   "metadata": {},
   "outputs": [
    {
     "data": {
      "text/plain": [
       "pizza_id               Int64\n",
       "order_id               Int64\n",
       "pizza_name_id         object\n",
       "quantity             float64\n",
       "order_date            object\n",
       "order_time            object\n",
       "unit_price           float64\n",
       "total_price          float64\n",
       "pizza_size            object\n",
       "pizza_category        object\n",
       "pizza_ingredients     object\n",
       "pizza_name            object\n",
       "date_id                Int64\n",
       "dtype: object"
      ]
     },
     "execution_count": 88,
     "metadata": {},
     "output_type": "execute_result"
    }
   ],
   "source": [
    "df.dtypes"
   ]
  },
  {
   "cell_type": "code",
   "execution_count": 89,
   "id": "2e17c756-deeb-45f0-839e-1de23283e446",
   "metadata": {},
   "outputs": [
    {
     "data": {
      "text/html": [
       "<div>\n",
       "<style scoped>\n",
       "    .dataframe tbody tr th:only-of-type {\n",
       "        vertical-align: middle;\n",
       "    }\n",
       "\n",
       "    .dataframe tbody tr th {\n",
       "        vertical-align: top;\n",
       "    }\n",
       "\n",
       "    .dataframe thead th {\n",
       "        text-align: right;\n",
       "    }\n",
       "</style>\n",
       "<table border=\"1\" class=\"dataframe\">\n",
       "  <thead>\n",
       "    <tr style=\"text-align: right;\">\n",
       "      <th></th>\n",
       "      <th>order_id</th>\n",
       "      <th>pizza_id</th>\n",
       "      <th>quantity</th>\n",
       "      <th>total_price</th>\n",
       "      <th>date_id</th>\n",
       "      <th>order_fact_SK</th>\n",
       "    </tr>\n",
       "  </thead>\n",
       "  <tbody>\n",
       "    <tr>\n",
       "      <th>0</th>\n",
       "      <td>1</td>\n",
       "      <td>1</td>\n",
       "      <td>1.0</td>\n",
       "      <td>13.25</td>\n",
       "      <td>1</td>\n",
       "      <td>1</td>\n",
       "    </tr>\n",
       "    <tr>\n",
       "      <th>1</th>\n",
       "      <td>2</td>\n",
       "      <td>2</td>\n",
       "      <td>1.0</td>\n",
       "      <td>16.00</td>\n",
       "      <td>2</td>\n",
       "      <td>2</td>\n",
       "    </tr>\n",
       "    <tr>\n",
       "      <th>2</th>\n",
       "      <td>2</td>\n",
       "      <td>3</td>\n",
       "      <td>1.0</td>\n",
       "      <td>18.50</td>\n",
       "      <td>2</td>\n",
       "      <td>3</td>\n",
       "    </tr>\n",
       "    <tr>\n",
       "      <th>3</th>\n",
       "      <td>2</td>\n",
       "      <td>4</td>\n",
       "      <td>1.0</td>\n",
       "      <td>20.75</td>\n",
       "      <td>2</td>\n",
       "      <td>4</td>\n",
       "    </tr>\n",
       "    <tr>\n",
       "      <th>4</th>\n",
       "      <td>2</td>\n",
       "      <td>5</td>\n",
       "      <td>1.0</td>\n",
       "      <td>16.00</td>\n",
       "      <td>2</td>\n",
       "      <td>5</td>\n",
       "    </tr>\n",
       "    <tr>\n",
       "      <th>...</th>\n",
       "      <td>...</td>\n",
       "      <td>...</td>\n",
       "      <td>...</td>\n",
       "      <td>...</td>\n",
       "      <td>...</td>\n",
       "      <td>...</td>\n",
       "    </tr>\n",
       "    <tr>\n",
       "      <th>48615</th>\n",
       "      <td>21348</td>\n",
       "      <td>48616</td>\n",
       "      <td>1.0</td>\n",
       "      <td>16.75</td>\n",
       "      <td>&lt;NA&gt;</td>\n",
       "      <td>48616</td>\n",
       "    </tr>\n",
       "    <tr>\n",
       "      <th>48616</th>\n",
       "      <td>21348</td>\n",
       "      <td>48617</td>\n",
       "      <td>1.0</td>\n",
       "      <td>17.95</td>\n",
       "      <td>&lt;NA&gt;</td>\n",
       "      <td>48617</td>\n",
       "    </tr>\n",
       "    <tr>\n",
       "      <th>48617</th>\n",
       "      <td>21348</td>\n",
       "      <td>48618</td>\n",
       "      <td>1.0</td>\n",
       "      <td>12.00</td>\n",
       "      <td>&lt;NA&gt;</td>\n",
       "      <td>48618</td>\n",
       "    </tr>\n",
       "    <tr>\n",
       "      <th>48618</th>\n",
       "      <td>21349</td>\n",
       "      <td>48619</td>\n",
       "      <td>1.0</td>\n",
       "      <td>20.25</td>\n",
       "      <td>&lt;NA&gt;</td>\n",
       "      <td>48619</td>\n",
       "    </tr>\n",
       "    <tr>\n",
       "      <th>48619</th>\n",
       "      <td>21350</td>\n",
       "      <td>48620</td>\n",
       "      <td>1.0</td>\n",
       "      <td>12.75</td>\n",
       "      <td>&lt;NA&gt;</td>\n",
       "      <td>48620</td>\n",
       "    </tr>\n",
       "  </tbody>\n",
       "</table>\n",
       "<p>48620 rows × 6 columns</p>\n",
       "</div>"
      ],
      "text/plain": [
       "       order_id  pizza_id  quantity  total_price  date_id  order_fact_SK\n",
       "0             1         1       1.0        13.25        1              1\n",
       "1             2         2       1.0        16.00        2              2\n",
       "2             2         3       1.0        18.50        2              3\n",
       "3             2         4       1.0        20.75        2              4\n",
       "4             2         5       1.0        16.00        2              5\n",
       "...         ...       ...       ...          ...      ...            ...\n",
       "48615     21348     48616       1.0        16.75     <NA>          48616\n",
       "48616     21348     48617       1.0        17.95     <NA>          48617\n",
       "48617     21348     48618       1.0        12.00     <NA>          48618\n",
       "48618     21349     48619       1.0        20.25     <NA>          48619\n",
       "48619     21350     48620       1.0        12.75     <NA>          48620\n",
       "\n",
       "[48620 rows x 6 columns]"
      ]
     },
     "execution_count": 89,
     "metadata": {},
     "output_type": "execute_result"
    }
   ],
   "source": [
    "order_fact"
   ]
  },
  {
   "cell_type": "markdown",
   "id": "a2946e7d-78f5-4b6a-be74-b29a8a8199f2",
   "metadata": {},
   "source": [
    "# loading data into snowflake"
   ]
  },
  {
   "cell_type": "code",
   "execution_count": 90,
   "id": "30369024-f2c0-4f2a-8dae-24c884ac7aaa",
   "metadata": {},
   "outputs": [
    {
     "name": "stdout",
     "output_type": "stream",
     "text": [
      "Requirement already satisfied: snowflake-connector-python in c:\\users\\yahia zakaria\\anaconda3\\lib\\site-packages (3.15.0)\n",
      "Requirement already satisfied: asn1crypto<2.0.0,>0.24.0 in c:\\users\\yahia zakaria\\anaconda3\\lib\\site-packages (from snowflake-connector-python) (1.5.1)\n",
      "Requirement already satisfied: boto3>=1.24 in c:\\users\\yahia zakaria\\anaconda3\\lib\\site-packages (from snowflake-connector-python) (1.38.23)\n",
      "Requirement already satisfied: botocore>=1.24 in c:\\users\\yahia zakaria\\anaconda3\\lib\\site-packages (from snowflake-connector-python) (1.38.23)\n",
      "Requirement already satisfied: cffi<2.0.0,>=1.9 in c:\\users\\yahia zakaria\\anaconda3\\lib\\site-packages (from snowflake-connector-python) (1.17.1)\n",
      "Requirement already satisfied: cryptography>=3.1.0 in c:\\users\\yahia zakaria\\anaconda3\\lib\\site-packages (from snowflake-connector-python) (43.0.0)\n",
      "Requirement already satisfied: pyOpenSSL<26.0.0,>=22.0.0 in c:\\users\\yahia zakaria\\anaconda3\\lib\\site-packages (from snowflake-connector-python) (24.2.1)\n",
      "Requirement already satisfied: pyjwt<3.0.0 in c:\\users\\yahia zakaria\\anaconda3\\lib\\site-packages (from snowflake-connector-python) (2.8.0)\n",
      "Requirement already satisfied: pytz in c:\\users\\yahia zakaria\\anaconda3\\lib\\site-packages (from snowflake-connector-python) (2024.1)\n",
      "Requirement already satisfied: requests<3.0.0 in c:\\users\\yahia zakaria\\anaconda3\\lib\\site-packages (from snowflake-connector-python) (2.32.3)\n",
      "Requirement already satisfied: packaging in c:\\users\\yahia zakaria\\anaconda3\\lib\\site-packages (from snowflake-connector-python) (24.1)\n",
      "Requirement already satisfied: charset_normalizer<4,>=2 in c:\\users\\yahia zakaria\\anaconda3\\lib\\site-packages (from snowflake-connector-python) (3.3.2)\n",
      "Requirement already satisfied: idna<4,>=2.5 in c:\\users\\yahia zakaria\\anaconda3\\lib\\site-packages (from snowflake-connector-python) (3.7)\n",
      "Requirement already satisfied: certifi>=2017.4.17 in c:\\users\\yahia zakaria\\anaconda3\\lib\\site-packages (from snowflake-connector-python) (2025.1.31)\n",
      "Requirement already satisfied: typing_extensions<5,>=4.3 in c:\\users\\yahia zakaria\\anaconda3\\lib\\site-packages (from snowflake-connector-python) (4.11.0)\n",
      "Requirement already satisfied: filelock<4,>=3.5 in c:\\users\\yahia zakaria\\anaconda3\\lib\\site-packages (from snowflake-connector-python) (3.13.1)\n",
      "Requirement already satisfied: sortedcontainers>=2.4.0 in c:\\users\\yahia zakaria\\anaconda3\\lib\\site-packages (from snowflake-connector-python) (2.4.0)\n",
      "Requirement already satisfied: platformdirs<5.0.0,>=2.6.0 in c:\\users\\yahia zakaria\\anaconda3\\lib\\site-packages (from snowflake-connector-python) (3.10.0)\n",
      "Requirement already satisfied: tomlkit in c:\\users\\yahia zakaria\\anaconda3\\lib\\site-packages (from snowflake-connector-python) (0.11.1)\n",
      "Requirement already satisfied: jmespath<2.0.0,>=0.7.1 in c:\\users\\yahia zakaria\\anaconda3\\lib\\site-packages (from boto3>=1.24->snowflake-connector-python) (1.0.1)\n",
      "Requirement already satisfied: s3transfer<0.14.0,>=0.13.0 in c:\\users\\yahia zakaria\\anaconda3\\lib\\site-packages (from boto3>=1.24->snowflake-connector-python) (0.13.0)\n",
      "Requirement already satisfied: python-dateutil<3.0.0,>=2.1 in c:\\users\\yahia zakaria\\anaconda3\\lib\\site-packages (from botocore>=1.24->snowflake-connector-python) (2.9.0.post0)\n",
      "Requirement already satisfied: urllib3!=2.2.0,<3,>=1.25.4 in c:\\users\\yahia zakaria\\anaconda3\\lib\\site-packages (from botocore>=1.24->snowflake-connector-python) (2.2.3)\n",
      "Requirement already satisfied: pycparser in c:\\users\\yahia zakaria\\anaconda3\\lib\\site-packages (from cffi<2.0.0,>=1.9->snowflake-connector-python) (2.21)\n",
      "Requirement already satisfied: six>=1.5 in c:\\users\\yahia zakaria\\anaconda3\\lib\\site-packages (from python-dateutil<3.0.0,>=2.1->botocore>=1.24->snowflake-connector-python) (1.16.0)\n",
      "Note: you may need to restart the kernel to use updated packages.\n"
     ]
    }
   ],
   "source": [
    "pip install snowflake-connector-python"
   ]
  },
  {
   "cell_type": "code",
   "execution_count": 91,
   "id": "1798d0cf-68af-42a6-a174-23d5a0fe63c0",
   "metadata": {},
   "outputs": [],
   "source": [
    "import snowflake.connector\n",
    "from snowflake.connector.pandas_tools import write_pandas"
   ]
  },
  {
   "cell_type": "code",
   "execution_count": 92,
   "id": "3859018a-abcd-45ca-b372-01e8929e9d84",
   "metadata": {},
   "outputs": [],
   "source": [
    "conn = snowflake.connector.connect(\n",
    "    user='******',\n",
    "    password='*****',\n",
    "    account='****',   \n",
    "    warehouse='COMPUTE_WH',\n",
    "    database='pizza_dw',\n",
    "    schema='analytics'\n",
    ")"
   ]
  },
  {
   "cell_type": "code",
   "execution_count": 93,
   "id": "0c4271f2-a707-4869-baf8-cb7ae0aa5baf",
   "metadata": {},
   "outputs": [],
   "source": [
    "def upload_df_to_snowflake(df, table_name):\n",
    "    success, nchunks, nrows, _ = write_pandas(conn, df, table_name.upper())\n",
    "    if success:\n",
    "        print(f\"Uploaded {nrows} rows to {table_name} successfully.\")\n",
    "    else:\n",
    "        print(f\"Failed to upload {table_name}.\")\n",
    "\n"
   ]
  },
  {
   "cell_type": "code",
   "execution_count": 94,
   "id": "71ab5d43-4c09-4909-a0a5-48d30a539495",
   "metadata": {},
   "outputs": [],
   "source": [
    "date_dim.columns = [col.upper() for col in date_dim.columns]\n",
    "pizza_dim.columns = [col.upper() for col in pizza_dim.columns]\n",
    "pizza_category_dim.columns = [col.upper() for col in pizza_category_dim.columns]\n",
    "order_fact.columns = [col.upper() for col in order_fact.columns]"
   ]
  },
  {
   "cell_type": "code",
   "execution_count": 95,
   "id": "d85aa67b-c212-431d-b601-6dbe6c0ebf2c",
   "metadata": {},
   "outputs": [
    {
     "name": "stdout",
     "output_type": "stream",
     "text": [
      "Uploaded 21350 rows to date_dim successfully.\n",
      "Uploaded 48620 rows to pizza_dim successfully.\n",
      "Uploaded 48620 rows to order_fact successfully.\n",
      "Uploaded 91 rows to pizza_category_dim successfully.\n"
     ]
    }
   ],
   "source": [
    "upload_df_to_snowflake(date_dim, 'date_dim')\n",
    "upload_df_to_snowflake(pizza_dim, 'pizza_dim')\n",
    "upload_df_to_snowflake(order_fact, 'order_fact')\n",
    "upload_df_to_snowflake(pizza_category_dim, 'pizza_category_dim')"
   ]
  },
  {
   "cell_type": "code",
   "execution_count": 96,
   "id": "5a63d564-ea6f-421d-99e8-823fbef2b1c3",
   "metadata": {},
   "outputs": [],
   "source": [
    "conn.close()"
   ]
  }
 ],
 "metadata": {
  "kernelspec": {
   "display_name": "Python 3 (ipykernel)",
   "language": "python",
   "name": "python3"
  },
  "language_info": {
   "codemirror_mode": {
    "name": "ipython",
    "version": 3
   },
   "file_extension": ".py",
   "mimetype": "text/x-python",
   "name": "python",
   "nbconvert_exporter": "python",
   "pygments_lexer": "ipython3",
   "version": "3.12.7"
  }
 },
 "nbformat": 4,
 "nbformat_minor": 5
}
