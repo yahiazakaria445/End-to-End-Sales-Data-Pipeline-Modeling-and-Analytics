{
 "cells": [
  {
   "cell_type": "code",
   "execution_count": 1,
   "id": "3c84bd9d-ed0e-4030-99ee-9340fe6ed1cf",
   "metadata": {},
   "outputs": [],
   "source": [
    "import pandas as pd"
   ]
  },
  {
   "cell_type": "code",
   "execution_count": 2,
   "id": "d31642c2-3d57-4181-bfdd-1c21a08daad0",
   "metadata": {},
   "outputs": [
    {
     "data": {
      "text/html": [
       "<div>\n",
       "<style scoped>\n",
       "    .dataframe tbody tr th:only-of-type {\n",
       "        vertical-align: middle;\n",
       "    }\n",
       "\n",
       "    .dataframe tbody tr th {\n",
       "        vertical-align: top;\n",
       "    }\n",
       "\n",
       "    .dataframe thead th {\n",
       "        text-align: right;\n",
       "    }\n",
       "</style>\n",
       "<table border=\"1\" class=\"dataframe\">\n",
       "  <thead>\n",
       "    <tr style=\"text-align: right;\">\n",
       "      <th></th>\n",
       "      <th>pizza_id</th>\n",
       "      <th>order_id</th>\n",
       "      <th>pizza_name_id</th>\n",
       "      <th>quantity</th>\n",
       "      <th>order_date</th>\n",
       "      <th>order_time</th>\n",
       "      <th>unit_price</th>\n",
       "      <th>total_price</th>\n",
       "      <th>pizza_size</th>\n",
       "      <th>pizza_category</th>\n",
       "      <th>pizza_ingredients</th>\n",
       "      <th>pizza_name</th>\n",
       "    </tr>\n",
       "  </thead>\n",
       "  <tbody>\n",
       "    <tr>\n",
       "      <th>0</th>\n",
       "      <td>1.0</td>\n",
       "      <td>1.0</td>\n",
       "      <td>hawaiian_m</td>\n",
       "      <td>1.0</td>\n",
       "      <td>1/1/2015</td>\n",
       "      <td>11:38:36</td>\n",
       "      <td>13.25</td>\n",
       "      <td>13.25</td>\n",
       "      <td>M</td>\n",
       "      <td>Classic</td>\n",
       "      <td>Sliced Ham, Pineapple, Mozzarella Cheese</td>\n",
       "      <td>The Hawaiian Pizza</td>\n",
       "    </tr>\n",
       "    <tr>\n",
       "      <th>1</th>\n",
       "      <td>2.0</td>\n",
       "      <td>2.0</td>\n",
       "      <td>classic_dlx_m</td>\n",
       "      <td>1.0</td>\n",
       "      <td>1/1/2015</td>\n",
       "      <td>11:57:40</td>\n",
       "      <td>16.00</td>\n",
       "      <td>16.00</td>\n",
       "      <td>M</td>\n",
       "      <td>Classic</td>\n",
       "      <td>Pepperoni, Mushrooms, Red Onions, Red Peppers,...</td>\n",
       "      <td>The Classic Deluxe Pizza</td>\n",
       "    </tr>\n",
       "    <tr>\n",
       "      <th>2</th>\n",
       "      <td>3.0</td>\n",
       "      <td>2.0</td>\n",
       "      <td>five_cheese_l</td>\n",
       "      <td>1.0</td>\n",
       "      <td>1/1/2015</td>\n",
       "      <td>11:57:40</td>\n",
       "      <td>18.50</td>\n",
       "      <td>18.50</td>\n",
       "      <td>L</td>\n",
       "      <td>Veggie</td>\n",
       "      <td>Mozzarella Cheese, Provolone Cheese, Smoked Go...</td>\n",
       "      <td>The Five Cheese Pizza</td>\n",
       "    </tr>\n",
       "    <tr>\n",
       "      <th>3</th>\n",
       "      <td>4.0</td>\n",
       "      <td>2.0</td>\n",
       "      <td>ital_supr_l</td>\n",
       "      <td>1.0</td>\n",
       "      <td>1/1/2015</td>\n",
       "      <td>11:57:40</td>\n",
       "      <td>20.75</td>\n",
       "      <td>20.75</td>\n",
       "      <td>L</td>\n",
       "      <td>Supreme</td>\n",
       "      <td>Calabrese Salami, Capocollo, Tomatoes, Red Oni...</td>\n",
       "      <td>The Italian Supreme Pizza</td>\n",
       "    </tr>\n",
       "    <tr>\n",
       "      <th>4</th>\n",
       "      <td>5.0</td>\n",
       "      <td>2.0</td>\n",
       "      <td>mexicana_m</td>\n",
       "      <td>1.0</td>\n",
       "      <td>1/1/2015</td>\n",
       "      <td>11:57:40</td>\n",
       "      <td>16.00</td>\n",
       "      <td>16.00</td>\n",
       "      <td>M</td>\n",
       "      <td>Veggie</td>\n",
       "      <td>Tomatoes, Red Peppers, Jalapeno Peppers, Red O...</td>\n",
       "      <td>The Mexicana Pizza</td>\n",
       "    </tr>\n",
       "  </tbody>\n",
       "</table>\n",
       "</div>"
      ],
      "text/plain": [
       "   pizza_id  order_id  pizza_name_id  quantity order_date order_time  \\\n",
       "0       1.0       1.0     hawaiian_m       1.0   1/1/2015   11:38:36   \n",
       "1       2.0       2.0  classic_dlx_m       1.0   1/1/2015   11:57:40   \n",
       "2       3.0       2.0  five_cheese_l       1.0   1/1/2015   11:57:40   \n",
       "3       4.0       2.0    ital_supr_l       1.0   1/1/2015   11:57:40   \n",
       "4       5.0       2.0     mexicana_m       1.0   1/1/2015   11:57:40   \n",
       "\n",
       "   unit_price  total_price pizza_size pizza_category  \\\n",
       "0       13.25        13.25          M        Classic   \n",
       "1       16.00        16.00          M        Classic   \n",
       "2       18.50        18.50          L         Veggie   \n",
       "3       20.75        20.75          L        Supreme   \n",
       "4       16.00        16.00          M         Veggie   \n",
       "\n",
       "                                   pizza_ingredients  \\\n",
       "0           Sliced Ham, Pineapple, Mozzarella Cheese   \n",
       "1  Pepperoni, Mushrooms, Red Onions, Red Peppers,...   \n",
       "2  Mozzarella Cheese, Provolone Cheese, Smoked Go...   \n",
       "3  Calabrese Salami, Capocollo, Tomatoes, Red Oni...   \n",
       "4  Tomatoes, Red Peppers, Jalapeno Peppers, Red O...   \n",
       "\n",
       "                  pizza_name  \n",
       "0         The Hawaiian Pizza  \n",
       "1   The Classic Deluxe Pizza  \n",
       "2      The Five Cheese Pizza  \n",
       "3  The Italian Supreme Pizza  \n",
       "4         The Mexicana Pizza  "
      ]
     },
     "execution_count": 2,
     "metadata": {},
     "output_type": "execute_result"
    }
   ],
   "source": [
    "df = pd.read_csv(\"pizza_sales.csv\")\n",
    "df.head()"
   ]
  },
  {
   "cell_type": "code",
   "execution_count": 3,
   "id": "6aeb630d-89b7-4813-a8a5-8899922966ac",
   "metadata": {},
   "outputs": [
    {
     "data": {
      "text/plain": [
       "Index(['pizza_id', 'order_id', 'pizza_name_id', 'quantity', 'order_date',\n",
       "       'order_time', 'unit_price', 'total_price', 'pizza_size',\n",
       "       'pizza_category', 'pizza_ingredients', 'pizza_name'],\n",
       "      dtype='object')"
      ]
     },
     "execution_count": 3,
     "metadata": {},
     "output_type": "execute_result"
    }
   ],
   "source": [
    "df.columns"
   ]
  },
  {
   "cell_type": "code",
   "execution_count": 4,
   "id": "a2b100d4-9658-4983-80ad-31453868d31e",
   "metadata": {},
   "outputs": [
    {
     "data": {
      "text/plain": [
       "pizza_id             float64\n",
       "order_id             float64\n",
       "pizza_name_id         object\n",
       "quantity             float64\n",
       "order_date            object\n",
       "order_time            object\n",
       "unit_price           float64\n",
       "total_price          float64\n",
       "pizza_size            object\n",
       "pizza_category        object\n",
       "pizza_ingredients     object\n",
       "pizza_name            object\n",
       "dtype: object"
      ]
     },
     "execution_count": 4,
     "metadata": {},
     "output_type": "execute_result"
    }
   ],
   "source": [
    "df.dtypes"
   ]
  },
  {
   "cell_type": "markdown",
   "id": "d4937cfa-d8e2-4896-a43d-e810d1dd1b45",
   "metadata": {},
   "source": [
    "# Date Dimension"
   ]
  },
  {
   "cell_type": "code",
   "execution_count": 5,
   "id": "75c19b4c-55f9-4d5d-8a01-29380d71ab52",
   "metadata": {},
   "outputs": [],
   "source": [
    "df['order_date']=df['order_date'].astype(str)\n",
    "df['order_time']=df['order_time'].astype(str)"
   ]
  },
  {
   "cell_type": "code",
   "execution_count": 6,
   "id": "2436b6d2-5f31-4773-93a0-156b9388462c",
   "metadata": {},
   "outputs": [
    {
     "data": {
      "text/plain": [
       "0          1/1/2015\n",
       "1          1/1/2015\n",
       "2          1/1/2015\n",
       "3          1/1/2015\n",
       "4          1/1/2015\n",
       "            ...    \n",
       "48615    31-12-2015\n",
       "48616    31-12-2015\n",
       "48617    31-12-2015\n",
       "48618    31-12-2015\n",
       "48619    31-12-2015\n",
       "Name: order_date, Length: 48620, dtype: object"
      ]
     },
     "execution_count": 6,
     "metadata": {},
     "output_type": "execute_result"
    }
   ],
   "source": [
    "df['order_date']"
   ]
  },
  {
   "cell_type": "code",
   "execution_count": 7,
   "id": "da712b8e-f063-4642-bd0a-2f78e7e4f75e",
   "metadata": {},
   "outputs": [],
   "source": [
    "date_dim = df[['order_date', 'order_time']].drop_duplicates().copy()"
   ]
  },
  {
   "cell_type": "code",
   "execution_count": 8,
   "id": "221b8ed8-7c71-4e5c-8a66-eeac08c07f30",
   "metadata": {},
   "outputs": [
    {
     "data": {
      "text/html": [
       "<div>\n",
       "<style scoped>\n",
       "    .dataframe tbody tr th:only-of-type {\n",
       "        vertical-align: middle;\n",
       "    }\n",
       "\n",
       "    .dataframe tbody tr th {\n",
       "        vertical-align: top;\n",
       "    }\n",
       "\n",
       "    .dataframe thead th {\n",
       "        text-align: right;\n",
       "    }\n",
       "</style>\n",
       "<table border=\"1\" class=\"dataframe\">\n",
       "  <thead>\n",
       "    <tr style=\"text-align: right;\">\n",
       "      <th></th>\n",
       "      <th>order_date</th>\n",
       "      <th>order_time</th>\n",
       "    </tr>\n",
       "  </thead>\n",
       "  <tbody>\n",
       "    <tr>\n",
       "      <th>0</th>\n",
       "      <td>1/1/2015</td>\n",
       "      <td>11:38:36</td>\n",
       "    </tr>\n",
       "    <tr>\n",
       "      <th>1</th>\n",
       "      <td>1/1/2015</td>\n",
       "      <td>11:57:40</td>\n",
       "    </tr>\n",
       "    <tr>\n",
       "      <th>6</th>\n",
       "      <td>1/1/2015</td>\n",
       "      <td>12:12:28</td>\n",
       "    </tr>\n",
       "    <tr>\n",
       "      <th>8</th>\n",
       "      <td>1/1/2015</td>\n",
       "      <td>12:16:31</td>\n",
       "    </tr>\n",
       "    <tr>\n",
       "      <th>9</th>\n",
       "      <td>1/1/2015</td>\n",
       "      <td>12:21:30</td>\n",
       "    </tr>\n",
       "    <tr>\n",
       "      <th>...</th>\n",
       "      <td>...</td>\n",
       "      <td>...</td>\n",
       "    </tr>\n",
       "    <tr>\n",
       "      <th>48607</th>\n",
       "      <td>31-12-2015</td>\n",
       "      <td>20:51:07</td>\n",
       "    </tr>\n",
       "    <tr>\n",
       "      <th>48611</th>\n",
       "      <td>31-12-2015</td>\n",
       "      <td>21:14:37</td>\n",
       "    </tr>\n",
       "    <tr>\n",
       "      <th>48615</th>\n",
       "      <td>31-12-2015</td>\n",
       "      <td>21:23:10</td>\n",
       "    </tr>\n",
       "    <tr>\n",
       "      <th>48618</th>\n",
       "      <td>31-12-2015</td>\n",
       "      <td>22:09:54</td>\n",
       "    </tr>\n",
       "    <tr>\n",
       "      <th>48619</th>\n",
       "      <td>31-12-2015</td>\n",
       "      <td>23:02:05</td>\n",
       "    </tr>\n",
       "  </tbody>\n",
       "</table>\n",
       "<p>21350 rows × 2 columns</p>\n",
       "</div>"
      ],
      "text/plain": [
       "       order_date order_time\n",
       "0        1/1/2015   11:38:36\n",
       "1        1/1/2015   11:57:40\n",
       "6        1/1/2015   12:12:28\n",
       "8        1/1/2015   12:16:31\n",
       "9        1/1/2015   12:21:30\n",
       "...           ...        ...\n",
       "48607  31-12-2015   20:51:07\n",
       "48611  31-12-2015   21:14:37\n",
       "48615  31-12-2015   21:23:10\n",
       "48618  31-12-2015   22:09:54\n",
       "48619  31-12-2015   23:02:05\n",
       "\n",
       "[21350 rows x 2 columns]"
      ]
     },
     "execution_count": 8,
     "metadata": {},
     "output_type": "execute_result"
    }
   ],
   "source": [
    "date_dim"
   ]
  },
  {
   "cell_type": "code",
   "execution_count": 9,
   "id": "24736c9c-ecfd-4943-8f2b-f12213f8ae00",
   "metadata": {},
   "outputs": [],
   "source": [
    "date_dim['order_date'] = date_dim['order_date'].str.replace('-', '/', regex=False)"
   ]
  },
  {
   "cell_type": "code",
   "execution_count": 10,
   "id": "ba6bc775-cdd5-4ffb-b276-ed9551c6026e",
   "metadata": {},
   "outputs": [
    {
     "data": {
      "text/html": [
       "<div>\n",
       "<style scoped>\n",
       "    .dataframe tbody tr th:only-of-type {\n",
       "        vertical-align: middle;\n",
       "    }\n",
       "\n",
       "    .dataframe tbody tr th {\n",
       "        vertical-align: top;\n",
       "    }\n",
       "\n",
       "    .dataframe thead th {\n",
       "        text-align: right;\n",
       "    }\n",
       "</style>\n",
       "<table border=\"1\" class=\"dataframe\">\n",
       "  <thead>\n",
       "    <tr style=\"text-align: right;\">\n",
       "      <th></th>\n",
       "      <th>order_date</th>\n",
       "      <th>order_time</th>\n",
       "    </tr>\n",
       "  </thead>\n",
       "  <tbody>\n",
       "    <tr>\n",
       "      <th>0</th>\n",
       "      <td>1/1/2015</td>\n",
       "      <td>11:38:36</td>\n",
       "    </tr>\n",
       "    <tr>\n",
       "      <th>1</th>\n",
       "      <td>1/1/2015</td>\n",
       "      <td>11:57:40</td>\n",
       "    </tr>\n",
       "    <tr>\n",
       "      <th>6</th>\n",
       "      <td>1/1/2015</td>\n",
       "      <td>12:12:28</td>\n",
       "    </tr>\n",
       "    <tr>\n",
       "      <th>8</th>\n",
       "      <td>1/1/2015</td>\n",
       "      <td>12:16:31</td>\n",
       "    </tr>\n",
       "    <tr>\n",
       "      <th>9</th>\n",
       "      <td>1/1/2015</td>\n",
       "      <td>12:21:30</td>\n",
       "    </tr>\n",
       "    <tr>\n",
       "      <th>...</th>\n",
       "      <td>...</td>\n",
       "      <td>...</td>\n",
       "    </tr>\n",
       "    <tr>\n",
       "      <th>48607</th>\n",
       "      <td>31/12/2015</td>\n",
       "      <td>20:51:07</td>\n",
       "    </tr>\n",
       "    <tr>\n",
       "      <th>48611</th>\n",
       "      <td>31/12/2015</td>\n",
       "      <td>21:14:37</td>\n",
       "    </tr>\n",
       "    <tr>\n",
       "      <th>48615</th>\n",
       "      <td>31/12/2015</td>\n",
       "      <td>21:23:10</td>\n",
       "    </tr>\n",
       "    <tr>\n",
       "      <th>48618</th>\n",
       "      <td>31/12/2015</td>\n",
       "      <td>22:09:54</td>\n",
       "    </tr>\n",
       "    <tr>\n",
       "      <th>48619</th>\n",
       "      <td>31/12/2015</td>\n",
       "      <td>23:02:05</td>\n",
       "    </tr>\n",
       "  </tbody>\n",
       "</table>\n",
       "<p>21350 rows × 2 columns</p>\n",
       "</div>"
      ],
      "text/plain": [
       "       order_date order_time\n",
       "0        1/1/2015   11:38:36\n",
       "1        1/1/2015   11:57:40\n",
       "6        1/1/2015   12:12:28\n",
       "8        1/1/2015   12:16:31\n",
       "9        1/1/2015   12:21:30\n",
       "...           ...        ...\n",
       "48607  31/12/2015   20:51:07\n",
       "48611  31/12/2015   21:14:37\n",
       "48615  31/12/2015   21:23:10\n",
       "48618  31/12/2015   22:09:54\n",
       "48619  31/12/2015   23:02:05\n",
       "\n",
       "[21350 rows x 2 columns]"
      ]
     },
     "execution_count": 10,
     "metadata": {},
     "output_type": "execute_result"
    }
   ],
   "source": [
    "date_dim"
   ]
  },
  {
   "cell_type": "code",
   "execution_count": 11,
   "id": "9517ac67-2d23-4b49-8f04-ce2bc0b5e09a",
   "metadata": {},
   "outputs": [],
   "source": [
    "date_dim['date_obj'] = pd.to_datetime(date_dim['order_date'], dayfirst=True, errors='coerce')"
   ]
  },
  {
   "cell_type": "code",
   "execution_count": 12,
   "id": "daf21a25-8e5d-4932-ba5e-bc52943ba94b",
   "metadata": {},
   "outputs": [
    {
     "data": {
      "text/plain": [
       "0       2015-01-01\n",
       "1       2015-01-01\n",
       "6       2015-01-01\n",
       "8       2015-01-01\n",
       "9       2015-01-01\n",
       "           ...    \n",
       "48607   2015-12-31\n",
       "48611   2015-12-31\n",
       "48615   2015-12-31\n",
       "48618   2015-12-31\n",
       "48619   2015-12-31\n",
       "Name: date_obj, Length: 21350, dtype: datetime64[ns]"
      ]
     },
     "execution_count": 12,
     "metadata": {},
     "output_type": "execute_result"
    }
   ],
   "source": [
    "date_dim['date_obj']"
   ]
  },
  {
   "cell_type": "code",
   "execution_count": 13,
   "id": "5042b695-7a4d-40ef-ab69-3d6caf4fef73",
   "metadata": {},
   "outputs": [
    {
     "data": {
      "text/plain": [
       "0"
      ]
     },
     "execution_count": 13,
     "metadata": {},
     "output_type": "execute_result"
    }
   ],
   "source": [
    "date_dim['date_obj'].isna().sum()"
   ]
  },
  {
   "cell_type": "code",
   "execution_count": 14,
   "id": "ccec23a9-5c73-40c5-8c2d-0556b2eadf49",
   "metadata": {},
   "outputs": [
    {
     "data": {
      "text/html": [
       "<div>\n",
       "<style scoped>\n",
       "    .dataframe tbody tr th:only-of-type {\n",
       "        vertical-align: middle;\n",
       "    }\n",
       "\n",
       "    .dataframe tbody tr th {\n",
       "        vertical-align: top;\n",
       "    }\n",
       "\n",
       "    .dataframe thead th {\n",
       "        text-align: right;\n",
       "    }\n",
       "</style>\n",
       "<table border=\"1\" class=\"dataframe\">\n",
       "  <thead>\n",
       "    <tr style=\"text-align: right;\">\n",
       "      <th></th>\n",
       "      <th>order_date</th>\n",
       "      <th>order_time</th>\n",
       "      <th>date_obj</th>\n",
       "    </tr>\n",
       "  </thead>\n",
       "  <tbody>\n",
       "    <tr>\n",
       "      <th>0</th>\n",
       "      <td>1/1/2015</td>\n",
       "      <td>11:38:36</td>\n",
       "      <td>2015-01-01</td>\n",
       "    </tr>\n",
       "    <tr>\n",
       "      <th>1</th>\n",
       "      <td>1/1/2015</td>\n",
       "      <td>11:57:40</td>\n",
       "      <td>2015-01-01</td>\n",
       "    </tr>\n",
       "    <tr>\n",
       "      <th>6</th>\n",
       "      <td>1/1/2015</td>\n",
       "      <td>12:12:28</td>\n",
       "      <td>2015-01-01</td>\n",
       "    </tr>\n",
       "    <tr>\n",
       "      <th>8</th>\n",
       "      <td>1/1/2015</td>\n",
       "      <td>12:16:31</td>\n",
       "      <td>2015-01-01</td>\n",
       "    </tr>\n",
       "    <tr>\n",
       "      <th>9</th>\n",
       "      <td>1/1/2015</td>\n",
       "      <td>12:21:30</td>\n",
       "      <td>2015-01-01</td>\n",
       "    </tr>\n",
       "    <tr>\n",
       "      <th>...</th>\n",
       "      <td>...</td>\n",
       "      <td>...</td>\n",
       "      <td>...</td>\n",
       "    </tr>\n",
       "    <tr>\n",
       "      <th>48607</th>\n",
       "      <td>31/12/2015</td>\n",
       "      <td>20:51:07</td>\n",
       "      <td>2015-12-31</td>\n",
       "    </tr>\n",
       "    <tr>\n",
       "      <th>48611</th>\n",
       "      <td>31/12/2015</td>\n",
       "      <td>21:14:37</td>\n",
       "      <td>2015-12-31</td>\n",
       "    </tr>\n",
       "    <tr>\n",
       "      <th>48615</th>\n",
       "      <td>31/12/2015</td>\n",
       "      <td>21:23:10</td>\n",
       "      <td>2015-12-31</td>\n",
       "    </tr>\n",
       "    <tr>\n",
       "      <th>48618</th>\n",
       "      <td>31/12/2015</td>\n",
       "      <td>22:09:54</td>\n",
       "      <td>2015-12-31</td>\n",
       "    </tr>\n",
       "    <tr>\n",
       "      <th>48619</th>\n",
       "      <td>31/12/2015</td>\n",
       "      <td>23:02:05</td>\n",
       "      <td>2015-12-31</td>\n",
       "    </tr>\n",
       "  </tbody>\n",
       "</table>\n",
       "<p>21350 rows × 3 columns</p>\n",
       "</div>"
      ],
      "text/plain": [
       "       order_date order_time   date_obj\n",
       "0        1/1/2015   11:38:36 2015-01-01\n",
       "1        1/1/2015   11:57:40 2015-01-01\n",
       "6        1/1/2015   12:12:28 2015-01-01\n",
       "8        1/1/2015   12:16:31 2015-01-01\n",
       "9        1/1/2015   12:21:30 2015-01-01\n",
       "...           ...        ...        ...\n",
       "48607  31/12/2015   20:51:07 2015-12-31\n",
       "48611  31/12/2015   21:14:37 2015-12-31\n",
       "48615  31/12/2015   21:23:10 2015-12-31\n",
       "48618  31/12/2015   22:09:54 2015-12-31\n",
       "48619  31/12/2015   23:02:05 2015-12-31\n",
       "\n",
       "[21350 rows x 3 columns]"
      ]
     },
     "execution_count": 14,
     "metadata": {},
     "output_type": "execute_result"
    }
   ],
   "source": [
    "date_dim"
   ]
  },
  {
   "cell_type": "code",
   "execution_count": 15,
   "id": "118da7c9-009f-4df7-8188-92e56c4c985d",
   "metadata": {},
   "outputs": [],
   "source": [
    "date_dim['day'] = date_dim['date_obj'].dt.day\n",
    "date_dim['month'] = date_dim['date_obj'].dt.month\n",
    "date_dim['year'] = date_dim['date_obj'].dt.year"
   ]
  },
  {
   "cell_type": "code",
   "execution_count": 16,
   "id": "191ca140-314d-46b8-bd23-5f0dd3874692",
   "metadata": {},
   "outputs": [
    {
     "data": {
      "text/html": [
       "<div>\n",
       "<style scoped>\n",
       "    .dataframe tbody tr th:only-of-type {\n",
       "        vertical-align: middle;\n",
       "    }\n",
       "\n",
       "    .dataframe tbody tr th {\n",
       "        vertical-align: top;\n",
       "    }\n",
       "\n",
       "    .dataframe thead th {\n",
       "        text-align: right;\n",
       "    }\n",
       "</style>\n",
       "<table border=\"1\" class=\"dataframe\">\n",
       "  <thead>\n",
       "    <tr style=\"text-align: right;\">\n",
       "      <th></th>\n",
       "      <th>order_date</th>\n",
       "      <th>order_time</th>\n",
       "      <th>date_obj</th>\n",
       "      <th>day</th>\n",
       "      <th>month</th>\n",
       "      <th>year</th>\n",
       "    </tr>\n",
       "  </thead>\n",
       "  <tbody>\n",
       "    <tr>\n",
       "      <th>0</th>\n",
       "      <td>1/1/2015</td>\n",
       "      <td>11:38:36</td>\n",
       "      <td>2015-01-01</td>\n",
       "      <td>1</td>\n",
       "      <td>1</td>\n",
       "      <td>2015</td>\n",
       "    </tr>\n",
       "    <tr>\n",
       "      <th>1</th>\n",
       "      <td>1/1/2015</td>\n",
       "      <td>11:57:40</td>\n",
       "      <td>2015-01-01</td>\n",
       "      <td>1</td>\n",
       "      <td>1</td>\n",
       "      <td>2015</td>\n",
       "    </tr>\n",
       "    <tr>\n",
       "      <th>6</th>\n",
       "      <td>1/1/2015</td>\n",
       "      <td>12:12:28</td>\n",
       "      <td>2015-01-01</td>\n",
       "      <td>1</td>\n",
       "      <td>1</td>\n",
       "      <td>2015</td>\n",
       "    </tr>\n",
       "    <tr>\n",
       "      <th>8</th>\n",
       "      <td>1/1/2015</td>\n",
       "      <td>12:16:31</td>\n",
       "      <td>2015-01-01</td>\n",
       "      <td>1</td>\n",
       "      <td>1</td>\n",
       "      <td>2015</td>\n",
       "    </tr>\n",
       "    <tr>\n",
       "      <th>9</th>\n",
       "      <td>1/1/2015</td>\n",
       "      <td>12:21:30</td>\n",
       "      <td>2015-01-01</td>\n",
       "      <td>1</td>\n",
       "      <td>1</td>\n",
       "      <td>2015</td>\n",
       "    </tr>\n",
       "  </tbody>\n",
       "</table>\n",
       "</div>"
      ],
      "text/plain": [
       "  order_date order_time   date_obj  day  month  year\n",
       "0   1/1/2015   11:38:36 2015-01-01    1      1  2015\n",
       "1   1/1/2015   11:57:40 2015-01-01    1      1  2015\n",
       "6   1/1/2015   12:12:28 2015-01-01    1      1  2015\n",
       "8   1/1/2015   12:16:31 2015-01-01    1      1  2015\n",
       "9   1/1/2015   12:21:30 2015-01-01    1      1  2015"
      ]
     },
     "execution_count": 16,
     "metadata": {},
     "output_type": "execute_result"
    }
   ],
   "source": [
    "date_dim.head()"
   ]
  },
  {
   "cell_type": "code",
   "execution_count": 17,
   "id": "dad87a4d-5db4-4764-a93c-3154fe544fdb",
   "metadata": {},
   "outputs": [],
   "source": [
    "date_dim.drop(columns=['date_obj'], inplace=True)"
   ]
  },
  {
   "cell_type": "code",
   "execution_count": 18,
   "id": "b9fb833f-f836-46b6-9251-8b882c442c48",
   "metadata": {},
   "outputs": [
    {
     "data": {
      "text/html": [
       "<div>\n",
       "<style scoped>\n",
       "    .dataframe tbody tr th:only-of-type {\n",
       "        vertical-align: middle;\n",
       "    }\n",
       "\n",
       "    .dataframe tbody tr th {\n",
       "        vertical-align: top;\n",
       "    }\n",
       "\n",
       "    .dataframe thead th {\n",
       "        text-align: right;\n",
       "    }\n",
       "</style>\n",
       "<table border=\"1\" class=\"dataframe\">\n",
       "  <thead>\n",
       "    <tr style=\"text-align: right;\">\n",
       "      <th></th>\n",
       "      <th>order_date</th>\n",
       "      <th>order_time</th>\n",
       "      <th>day</th>\n",
       "      <th>month</th>\n",
       "      <th>year</th>\n",
       "    </tr>\n",
       "  </thead>\n",
       "  <tbody>\n",
       "    <tr>\n",
       "      <th>0</th>\n",
       "      <td>1/1/2015</td>\n",
       "      <td>11:38:36</td>\n",
       "      <td>1</td>\n",
       "      <td>1</td>\n",
       "      <td>2015</td>\n",
       "    </tr>\n",
       "    <tr>\n",
       "      <th>1</th>\n",
       "      <td>1/1/2015</td>\n",
       "      <td>11:57:40</td>\n",
       "      <td>1</td>\n",
       "      <td>1</td>\n",
       "      <td>2015</td>\n",
       "    </tr>\n",
       "    <tr>\n",
       "      <th>6</th>\n",
       "      <td>1/1/2015</td>\n",
       "      <td>12:12:28</td>\n",
       "      <td>1</td>\n",
       "      <td>1</td>\n",
       "      <td>2015</td>\n",
       "    </tr>\n",
       "    <tr>\n",
       "      <th>8</th>\n",
       "      <td>1/1/2015</td>\n",
       "      <td>12:16:31</td>\n",
       "      <td>1</td>\n",
       "      <td>1</td>\n",
       "      <td>2015</td>\n",
       "    </tr>\n",
       "    <tr>\n",
       "      <th>9</th>\n",
       "      <td>1/1/2015</td>\n",
       "      <td>12:21:30</td>\n",
       "      <td>1</td>\n",
       "      <td>1</td>\n",
       "      <td>2015</td>\n",
       "    </tr>\n",
       "  </tbody>\n",
       "</table>\n",
       "</div>"
      ],
      "text/plain": [
       "  order_date order_time  day  month  year\n",
       "0   1/1/2015   11:38:36    1      1  2015\n",
       "1   1/1/2015   11:57:40    1      1  2015\n",
       "6   1/1/2015   12:12:28    1      1  2015\n",
       "8   1/1/2015   12:16:31    1      1  2015\n",
       "9   1/1/2015   12:21:30    1      1  2015"
      ]
     },
     "execution_count": 18,
     "metadata": {},
     "output_type": "execute_result"
    }
   ],
   "source": [
    "date_dim.head()"
   ]
  },
  {
   "cell_type": "code",
   "execution_count": 19,
   "id": "2d05b127-4c12-407c-ad61-293fff7c50eb",
   "metadata": {},
   "outputs": [],
   "source": [
    "date_dim = date_dim.reset_index(drop=True)\n",
    "date_dim['date_id'] = date_dim.index + 1"
   ]
  },
  {
   "cell_type": "code",
   "execution_count": 20,
   "id": "c7528cd1-619c-471e-a0ef-6233f1be0272",
   "metadata": {},
   "outputs": [
    {
     "data": {
      "text/plain": [
       "True"
      ]
     },
     "execution_count": 20,
     "metadata": {},
     "output_type": "execute_result"
    }
   ],
   "source": [
    "date_dim['date_id'].is_unique"
   ]
  },
  {
   "cell_type": "code",
   "execution_count": 21,
   "id": "5de60b69-60e9-437e-9069-0373523395fa",
   "metadata": {},
   "outputs": [],
   "source": [
    "date_dim = date_dim[['date_id', 'order_date', 'order_time', 'day', 'month', 'year']]"
   ]
  },
  {
   "cell_type": "code",
   "execution_count": 22,
   "id": "9e856da8-52fc-45d5-8514-68cb61c20269",
   "metadata": {},
   "outputs": [
    {
     "data": {
      "text/html": [
       "<div>\n",
       "<style scoped>\n",
       "    .dataframe tbody tr th:only-of-type {\n",
       "        vertical-align: middle;\n",
       "    }\n",
       "\n",
       "    .dataframe tbody tr th {\n",
       "        vertical-align: top;\n",
       "    }\n",
       "\n",
       "    .dataframe thead th {\n",
       "        text-align: right;\n",
       "    }\n",
       "</style>\n",
       "<table border=\"1\" class=\"dataframe\">\n",
       "  <thead>\n",
       "    <tr style=\"text-align: right;\">\n",
       "      <th></th>\n",
       "      <th>date_id</th>\n",
       "      <th>order_date</th>\n",
       "      <th>order_time</th>\n",
       "      <th>day</th>\n",
       "      <th>month</th>\n",
       "      <th>year</th>\n",
       "    </tr>\n",
       "  </thead>\n",
       "  <tbody>\n",
       "    <tr>\n",
       "      <th>0</th>\n",
       "      <td>1</td>\n",
       "      <td>1/1/2015</td>\n",
       "      <td>11:38:36</td>\n",
       "      <td>1</td>\n",
       "      <td>1</td>\n",
       "      <td>2015</td>\n",
       "    </tr>\n",
       "    <tr>\n",
       "      <th>1</th>\n",
       "      <td>2</td>\n",
       "      <td>1/1/2015</td>\n",
       "      <td>11:57:40</td>\n",
       "      <td>1</td>\n",
       "      <td>1</td>\n",
       "      <td>2015</td>\n",
       "    </tr>\n",
       "    <tr>\n",
       "      <th>2</th>\n",
       "      <td>3</td>\n",
       "      <td>1/1/2015</td>\n",
       "      <td>12:12:28</td>\n",
       "      <td>1</td>\n",
       "      <td>1</td>\n",
       "      <td>2015</td>\n",
       "    </tr>\n",
       "    <tr>\n",
       "      <th>3</th>\n",
       "      <td>4</td>\n",
       "      <td>1/1/2015</td>\n",
       "      <td>12:16:31</td>\n",
       "      <td>1</td>\n",
       "      <td>1</td>\n",
       "      <td>2015</td>\n",
       "    </tr>\n",
       "    <tr>\n",
       "      <th>4</th>\n",
       "      <td>5</td>\n",
       "      <td>1/1/2015</td>\n",
       "      <td>12:21:30</td>\n",
       "      <td>1</td>\n",
       "      <td>1</td>\n",
       "      <td>2015</td>\n",
       "    </tr>\n",
       "    <tr>\n",
       "      <th>...</th>\n",
       "      <td>...</td>\n",
       "      <td>...</td>\n",
       "      <td>...</td>\n",
       "      <td>...</td>\n",
       "      <td>...</td>\n",
       "      <td>...</td>\n",
       "    </tr>\n",
       "    <tr>\n",
       "      <th>21345</th>\n",
       "      <td>21346</td>\n",
       "      <td>31/12/2015</td>\n",
       "      <td>20:51:07</td>\n",
       "      <td>31</td>\n",
       "      <td>12</td>\n",
       "      <td>2015</td>\n",
       "    </tr>\n",
       "    <tr>\n",
       "      <th>21346</th>\n",
       "      <td>21347</td>\n",
       "      <td>31/12/2015</td>\n",
       "      <td>21:14:37</td>\n",
       "      <td>31</td>\n",
       "      <td>12</td>\n",
       "      <td>2015</td>\n",
       "    </tr>\n",
       "    <tr>\n",
       "      <th>21347</th>\n",
       "      <td>21348</td>\n",
       "      <td>31/12/2015</td>\n",
       "      <td>21:23:10</td>\n",
       "      <td>31</td>\n",
       "      <td>12</td>\n",
       "      <td>2015</td>\n",
       "    </tr>\n",
       "    <tr>\n",
       "      <th>21348</th>\n",
       "      <td>21349</td>\n",
       "      <td>31/12/2015</td>\n",
       "      <td>22:09:54</td>\n",
       "      <td>31</td>\n",
       "      <td>12</td>\n",
       "      <td>2015</td>\n",
       "    </tr>\n",
       "    <tr>\n",
       "      <th>21349</th>\n",
       "      <td>21350</td>\n",
       "      <td>31/12/2015</td>\n",
       "      <td>23:02:05</td>\n",
       "      <td>31</td>\n",
       "      <td>12</td>\n",
       "      <td>2015</td>\n",
       "    </tr>\n",
       "  </tbody>\n",
       "</table>\n",
       "<p>21350 rows × 6 columns</p>\n",
       "</div>"
      ],
      "text/plain": [
       "       date_id  order_date order_time  day  month  year\n",
       "0            1    1/1/2015   11:38:36    1      1  2015\n",
       "1            2    1/1/2015   11:57:40    1      1  2015\n",
       "2            3    1/1/2015   12:12:28    1      1  2015\n",
       "3            4    1/1/2015   12:16:31    1      1  2015\n",
       "4            5    1/1/2015   12:21:30    1      1  2015\n",
       "...        ...         ...        ...  ...    ...   ...\n",
       "21345    21346  31/12/2015   20:51:07   31     12  2015\n",
       "21346    21347  31/12/2015   21:14:37   31     12  2015\n",
       "21347    21348  31/12/2015   21:23:10   31     12  2015\n",
       "21348    21349  31/12/2015   22:09:54   31     12  2015\n",
       "21349    21350  31/12/2015   23:02:05   31     12  2015\n",
       "\n",
       "[21350 rows x 6 columns]"
      ]
     },
     "execution_count": 22,
     "metadata": {},
     "output_type": "execute_result"
    }
   ],
   "source": [
    "date_dim"
   ]
  },
  {
   "cell_type": "code",
   "execution_count": 23,
   "id": "ab8e7237-49f1-426c-9c6e-836273530e98",
   "metadata": {},
   "outputs": [],
   "source": [
    "df = df.merge(\n",
    "    date_dim[['order_date', 'order_time', 'date_id']],\n",
    "    on=['order_date', 'order_time'],\n",
    "    how='left'\n",
    ")"
   ]
  },
  {
   "cell_type": "code",
   "execution_count": 24,
   "id": "4fc362b6-33c4-44cf-b679-e7bebfcbb68a",
   "metadata": {},
   "outputs": [
    {
     "data": {
      "text/html": [
       "<div>\n",
       "<style scoped>\n",
       "    .dataframe tbody tr th:only-of-type {\n",
       "        vertical-align: middle;\n",
       "    }\n",
       "\n",
       "    .dataframe tbody tr th {\n",
       "        vertical-align: top;\n",
       "    }\n",
       "\n",
       "    .dataframe thead th {\n",
       "        text-align: right;\n",
       "    }\n",
       "</style>\n",
       "<table border=\"1\" class=\"dataframe\">\n",
       "  <thead>\n",
       "    <tr style=\"text-align: right;\">\n",
       "      <th></th>\n",
       "      <th>pizza_id</th>\n",
       "      <th>order_id</th>\n",
       "      <th>pizza_name_id</th>\n",
       "      <th>quantity</th>\n",
       "      <th>order_date</th>\n",
       "      <th>order_time</th>\n",
       "      <th>unit_price</th>\n",
       "      <th>total_price</th>\n",
       "      <th>pizza_size</th>\n",
       "      <th>pizza_category</th>\n",
       "      <th>pizza_ingredients</th>\n",
       "      <th>pizza_name</th>\n",
       "      <th>date_id</th>\n",
       "    </tr>\n",
       "  </thead>\n",
       "  <tbody>\n",
       "    <tr>\n",
       "      <th>0</th>\n",
       "      <td>1.0</td>\n",
       "      <td>1.0</td>\n",
       "      <td>hawaiian_m</td>\n",
       "      <td>1.0</td>\n",
       "      <td>1/1/2015</td>\n",
       "      <td>11:38:36</td>\n",
       "      <td>13.25</td>\n",
       "      <td>13.25</td>\n",
       "      <td>M</td>\n",
       "      <td>Classic</td>\n",
       "      <td>Sliced Ham, Pineapple, Mozzarella Cheese</td>\n",
       "      <td>The Hawaiian Pizza</td>\n",
       "      <td>1.0</td>\n",
       "    </tr>\n",
       "    <tr>\n",
       "      <th>1</th>\n",
       "      <td>2.0</td>\n",
       "      <td>2.0</td>\n",
       "      <td>classic_dlx_m</td>\n",
       "      <td>1.0</td>\n",
       "      <td>1/1/2015</td>\n",
       "      <td>11:57:40</td>\n",
       "      <td>16.00</td>\n",
       "      <td>16.00</td>\n",
       "      <td>M</td>\n",
       "      <td>Classic</td>\n",
       "      <td>Pepperoni, Mushrooms, Red Onions, Red Peppers,...</td>\n",
       "      <td>The Classic Deluxe Pizza</td>\n",
       "      <td>2.0</td>\n",
       "    </tr>\n",
       "    <tr>\n",
       "      <th>2</th>\n",
       "      <td>3.0</td>\n",
       "      <td>2.0</td>\n",
       "      <td>five_cheese_l</td>\n",
       "      <td>1.0</td>\n",
       "      <td>1/1/2015</td>\n",
       "      <td>11:57:40</td>\n",
       "      <td>18.50</td>\n",
       "      <td>18.50</td>\n",
       "      <td>L</td>\n",
       "      <td>Veggie</td>\n",
       "      <td>Mozzarella Cheese, Provolone Cheese, Smoked Go...</td>\n",
       "      <td>The Five Cheese Pizza</td>\n",
       "      <td>2.0</td>\n",
       "    </tr>\n",
       "    <tr>\n",
       "      <th>3</th>\n",
       "      <td>4.0</td>\n",
       "      <td>2.0</td>\n",
       "      <td>ital_supr_l</td>\n",
       "      <td>1.0</td>\n",
       "      <td>1/1/2015</td>\n",
       "      <td>11:57:40</td>\n",
       "      <td>20.75</td>\n",
       "      <td>20.75</td>\n",
       "      <td>L</td>\n",
       "      <td>Supreme</td>\n",
       "      <td>Calabrese Salami, Capocollo, Tomatoes, Red Oni...</td>\n",
       "      <td>The Italian Supreme Pizza</td>\n",
       "      <td>2.0</td>\n",
       "    </tr>\n",
       "    <tr>\n",
       "      <th>4</th>\n",
       "      <td>5.0</td>\n",
       "      <td>2.0</td>\n",
       "      <td>mexicana_m</td>\n",
       "      <td>1.0</td>\n",
       "      <td>1/1/2015</td>\n",
       "      <td>11:57:40</td>\n",
       "      <td>16.00</td>\n",
       "      <td>16.00</td>\n",
       "      <td>M</td>\n",
       "      <td>Veggie</td>\n",
       "      <td>Tomatoes, Red Peppers, Jalapeno Peppers, Red O...</td>\n",
       "      <td>The Mexicana Pizza</td>\n",
       "      <td>2.0</td>\n",
       "    </tr>\n",
       "  </tbody>\n",
       "</table>\n",
       "</div>"
      ],
      "text/plain": [
       "   pizza_id  order_id  pizza_name_id  quantity order_date order_time  \\\n",
       "0       1.0       1.0     hawaiian_m       1.0   1/1/2015   11:38:36   \n",
       "1       2.0       2.0  classic_dlx_m       1.0   1/1/2015   11:57:40   \n",
       "2       3.0       2.0  five_cheese_l       1.0   1/1/2015   11:57:40   \n",
       "3       4.0       2.0    ital_supr_l       1.0   1/1/2015   11:57:40   \n",
       "4       5.0       2.0     mexicana_m       1.0   1/1/2015   11:57:40   \n",
       "\n",
       "   unit_price  total_price pizza_size pizza_category  \\\n",
       "0       13.25        13.25          M        Classic   \n",
       "1       16.00        16.00          M        Classic   \n",
       "2       18.50        18.50          L         Veggie   \n",
       "3       20.75        20.75          L        Supreme   \n",
       "4       16.00        16.00          M         Veggie   \n",
       "\n",
       "                                   pizza_ingredients  \\\n",
       "0           Sliced Ham, Pineapple, Mozzarella Cheese   \n",
       "1  Pepperoni, Mushrooms, Red Onions, Red Peppers,...   \n",
       "2  Mozzarella Cheese, Provolone Cheese, Smoked Go...   \n",
       "3  Calabrese Salami, Capocollo, Tomatoes, Red Oni...   \n",
       "4  Tomatoes, Red Peppers, Jalapeno Peppers, Red O...   \n",
       "\n",
       "                  pizza_name  date_id  \n",
       "0         The Hawaiian Pizza      1.0  \n",
       "1   The Classic Deluxe Pizza      2.0  \n",
       "2      The Five Cheese Pizza      2.0  \n",
       "3  The Italian Supreme Pizza      2.0  \n",
       "4         The Mexicana Pizza      2.0  "
      ]
     },
     "execution_count": 24,
     "metadata": {},
     "output_type": "execute_result"
    }
   ],
   "source": [
    "df.head()"
   ]
  },
  {
   "cell_type": "code",
   "execution_count": 25,
   "id": "6c029944-1ed4-42af-a435-d6b2fabbb8ab",
   "metadata": {},
   "outputs": [
    {
     "data": {
      "text/plain": [
       "pizza_id             float64\n",
       "order_id             float64\n",
       "pizza_name_id         object\n",
       "quantity             float64\n",
       "order_date            object\n",
       "order_time            object\n",
       "unit_price           float64\n",
       "total_price          float64\n",
       "pizza_size            object\n",
       "pizza_category        object\n",
       "pizza_ingredients     object\n",
       "pizza_name            object\n",
       "date_id              float64\n",
       "dtype: object"
      ]
     },
     "execution_count": 25,
     "metadata": {},
     "output_type": "execute_result"
    }
   ],
   "source": [
    "df.dtypes"
   ]
  },
  {
   "cell_type": "code",
   "execution_count": 26,
   "id": "412f5e36-28c8-4111-93cb-03b30a9029b5",
   "metadata": {},
   "outputs": [
    {
     "data": {
      "text/plain": [
       "date_id        int64\n",
       "order_date    object\n",
       "order_time    object\n",
       "day            int32\n",
       "month          int32\n",
       "year           int32\n",
       "dtype: object"
      ]
     },
     "execution_count": 26,
     "metadata": {},
     "output_type": "execute_result"
    }
   ],
   "source": [
    "date_dim.dtypes"
   ]
  },
  {
   "cell_type": "code",
   "execution_count": 27,
   "id": "983b9822-1070-4ceb-8939-9f3075cd2715",
   "metadata": {},
   "outputs": [
    {
     "data": {
      "text/plain": [
       "pizza_id             float64\n",
       "order_id             float64\n",
       "pizza_name_id         object\n",
       "quantity             float64\n",
       "order_date            object\n",
       "order_time            object\n",
       "unit_price           float64\n",
       "total_price          float64\n",
       "pizza_size            object\n",
       "pizza_category        object\n",
       "pizza_ingredients     object\n",
       "pizza_name            object\n",
       "date_id                Int64\n",
       "dtype: object"
      ]
     },
     "execution_count": 27,
     "metadata": {},
     "output_type": "execute_result"
    }
   ],
   "source": [
    "df['date_id']=df['date_id'].astype('Int64')\n",
    "df.dtypes"
   ]
  },
  {
   "cell_type": "markdown",
   "id": "bdb30168-e0b1-42de-b490-41d9da90bb8c",
   "metadata": {},
   "source": [
    "# pizza Dimension"
   ]
  },
  {
   "cell_type": "code",
   "execution_count": 28,
   "id": "4ac113c4-6220-496b-872b-490ad78e931c",
   "metadata": {},
   "outputs": [],
   "source": [
    "pizza_dim = df[[\n",
    "    'pizza_id',\n",
    "    'pizza_name_id',\n",
    "    'pizza_category',\n",
    "    'pizza_ingredients',\n",
    "    'pizza_name',\n",
    "    'pizza_size',\n",
    "    'unit_price'\n",
    "]].drop_duplicates().reset_index(drop=True)"
   ]
  },
  {
   "cell_type": "code",
   "execution_count": 29,
   "id": "5c57aaab-5946-4d55-9cf3-e4f5d3b773ab",
   "metadata": {},
   "outputs": [
    {
     "data": {
      "text/html": [
       "<div>\n",
       "<style scoped>\n",
       "    .dataframe tbody tr th:only-of-type {\n",
       "        vertical-align: middle;\n",
       "    }\n",
       "\n",
       "    .dataframe tbody tr th {\n",
       "        vertical-align: top;\n",
       "    }\n",
       "\n",
       "    .dataframe thead th {\n",
       "        text-align: right;\n",
       "    }\n",
       "</style>\n",
       "<table border=\"1\" class=\"dataframe\">\n",
       "  <thead>\n",
       "    <tr style=\"text-align: right;\">\n",
       "      <th></th>\n",
       "      <th>pizza_id</th>\n",
       "      <th>pizza_name_id</th>\n",
       "      <th>pizza_category</th>\n",
       "      <th>pizza_ingredients</th>\n",
       "      <th>pizza_name</th>\n",
       "      <th>pizza_size</th>\n",
       "      <th>unit_price</th>\n",
       "    </tr>\n",
       "  </thead>\n",
       "  <tbody>\n",
       "    <tr>\n",
       "      <th>0</th>\n",
       "      <td>1.0</td>\n",
       "      <td>hawaiian_m</td>\n",
       "      <td>Classic</td>\n",
       "      <td>Sliced Ham, Pineapple, Mozzarella Cheese</td>\n",
       "      <td>The Hawaiian Pizza</td>\n",
       "      <td>M</td>\n",
       "      <td>13.25</td>\n",
       "    </tr>\n",
       "    <tr>\n",
       "      <th>1</th>\n",
       "      <td>2.0</td>\n",
       "      <td>classic_dlx_m</td>\n",
       "      <td>Classic</td>\n",
       "      <td>Pepperoni, Mushrooms, Red Onions, Red Peppers,...</td>\n",
       "      <td>The Classic Deluxe Pizza</td>\n",
       "      <td>M</td>\n",
       "      <td>16.00</td>\n",
       "    </tr>\n",
       "    <tr>\n",
       "      <th>2</th>\n",
       "      <td>3.0</td>\n",
       "      <td>five_cheese_l</td>\n",
       "      <td>Veggie</td>\n",
       "      <td>Mozzarella Cheese, Provolone Cheese, Smoked Go...</td>\n",
       "      <td>The Five Cheese Pizza</td>\n",
       "      <td>L</td>\n",
       "      <td>18.50</td>\n",
       "    </tr>\n",
       "    <tr>\n",
       "      <th>3</th>\n",
       "      <td>4.0</td>\n",
       "      <td>ital_supr_l</td>\n",
       "      <td>Supreme</td>\n",
       "      <td>Calabrese Salami, Capocollo, Tomatoes, Red Oni...</td>\n",
       "      <td>The Italian Supreme Pizza</td>\n",
       "      <td>L</td>\n",
       "      <td>20.75</td>\n",
       "    </tr>\n",
       "    <tr>\n",
       "      <th>4</th>\n",
       "      <td>5.0</td>\n",
       "      <td>mexicana_m</td>\n",
       "      <td>Veggie</td>\n",
       "      <td>Tomatoes, Red Peppers, Jalapeno Peppers, Red O...</td>\n",
       "      <td>The Mexicana Pizza</td>\n",
       "      <td>M</td>\n",
       "      <td>16.00</td>\n",
       "    </tr>\n",
       "    <tr>\n",
       "      <th>...</th>\n",
       "      <td>...</td>\n",
       "      <td>...</td>\n",
       "      <td>...</td>\n",
       "      <td>...</td>\n",
       "      <td>...</td>\n",
       "      <td>...</td>\n",
       "      <td>...</td>\n",
       "    </tr>\n",
       "    <tr>\n",
       "      <th>48615</th>\n",
       "      <td>48616.0</td>\n",
       "      <td>ckn_alfredo_m</td>\n",
       "      <td>Chicken</td>\n",
       "      <td>Chicken, Red Onions, Red Peppers, Mushrooms, A...</td>\n",
       "      <td>The Chicken Alfredo Pizza</td>\n",
       "      <td>M</td>\n",
       "      <td>16.75</td>\n",
       "    </tr>\n",
       "    <tr>\n",
       "      <th>48616</th>\n",
       "      <td>48617.0</td>\n",
       "      <td>four_cheese_l</td>\n",
       "      <td>Veggie</td>\n",
       "      <td>Ricotta Cheese, Gorgonzola Piccante Cheese, Mo...</td>\n",
       "      <td>The Four Cheese Pizza</td>\n",
       "      <td>L</td>\n",
       "      <td>17.95</td>\n",
       "    </tr>\n",
       "    <tr>\n",
       "      <th>48617</th>\n",
       "      <td>48618.0</td>\n",
       "      <td>napolitana_s</td>\n",
       "      <td>Classic</td>\n",
       "      <td>Tomatoes, Anchovies, Green Olives, Red Onions,...</td>\n",
       "      <td>The Napolitana Pizza</td>\n",
       "      <td>S</td>\n",
       "      <td>12.00</td>\n",
       "    </tr>\n",
       "    <tr>\n",
       "      <th>48618</th>\n",
       "      <td>48619.0</td>\n",
       "      <td>mexicana_l</td>\n",
       "      <td>Veggie</td>\n",
       "      <td>Tomatoes, Red Peppers, Jalapeno Peppers, Red O...</td>\n",
       "      <td>The Mexicana Pizza</td>\n",
       "      <td>L</td>\n",
       "      <td>20.25</td>\n",
       "    </tr>\n",
       "    <tr>\n",
       "      <th>48619</th>\n",
       "      <td>48620.0</td>\n",
       "      <td>bbq_ckn_s</td>\n",
       "      <td>Chicken</td>\n",
       "      <td>Barbecued Chicken, Red Peppers, Green Peppers,...</td>\n",
       "      <td>The Barbecue Chicken Pizza</td>\n",
       "      <td>S</td>\n",
       "      <td>12.75</td>\n",
       "    </tr>\n",
       "  </tbody>\n",
       "</table>\n",
       "<p>48620 rows × 7 columns</p>\n",
       "</div>"
      ],
      "text/plain": [
       "       pizza_id  pizza_name_id pizza_category  \\\n",
       "0           1.0     hawaiian_m        Classic   \n",
       "1           2.0  classic_dlx_m        Classic   \n",
       "2           3.0  five_cheese_l         Veggie   \n",
       "3           4.0    ital_supr_l        Supreme   \n",
       "4           5.0     mexicana_m         Veggie   \n",
       "...         ...            ...            ...   \n",
       "48615   48616.0  ckn_alfredo_m        Chicken   \n",
       "48616   48617.0  four_cheese_l         Veggie   \n",
       "48617   48618.0   napolitana_s        Classic   \n",
       "48618   48619.0     mexicana_l         Veggie   \n",
       "48619   48620.0      bbq_ckn_s        Chicken   \n",
       "\n",
       "                                       pizza_ingredients  \\\n",
       "0               Sliced Ham, Pineapple, Mozzarella Cheese   \n",
       "1      Pepperoni, Mushrooms, Red Onions, Red Peppers,...   \n",
       "2      Mozzarella Cheese, Provolone Cheese, Smoked Go...   \n",
       "3      Calabrese Salami, Capocollo, Tomatoes, Red Oni...   \n",
       "4      Tomatoes, Red Peppers, Jalapeno Peppers, Red O...   \n",
       "...                                                  ...   \n",
       "48615  Chicken, Red Onions, Red Peppers, Mushrooms, A...   \n",
       "48616  Ricotta Cheese, Gorgonzola Piccante Cheese, Mo...   \n",
       "48617  Tomatoes, Anchovies, Green Olives, Red Onions,...   \n",
       "48618  Tomatoes, Red Peppers, Jalapeno Peppers, Red O...   \n",
       "48619  Barbecued Chicken, Red Peppers, Green Peppers,...   \n",
       "\n",
       "                       pizza_name pizza_size  unit_price  \n",
       "0              The Hawaiian Pizza          M       13.25  \n",
       "1        The Classic Deluxe Pizza          M       16.00  \n",
       "2           The Five Cheese Pizza          L       18.50  \n",
       "3       The Italian Supreme Pizza          L       20.75  \n",
       "4              The Mexicana Pizza          M       16.00  \n",
       "...                           ...        ...         ...  \n",
       "48615   The Chicken Alfredo Pizza          M       16.75  \n",
       "48616       The Four Cheese Pizza          L       17.95  \n",
       "48617        The Napolitana Pizza          S       12.00  \n",
       "48618          The Mexicana Pizza          L       20.25  \n",
       "48619  The Barbecue Chicken Pizza          S       12.75  \n",
       "\n",
       "[48620 rows x 7 columns]"
      ]
     },
     "execution_count": 29,
     "metadata": {},
     "output_type": "execute_result"
    }
   ],
   "source": [
    "pizza_dim"
   ]
  },
  {
   "cell_type": "code",
   "execution_count": 30,
   "id": "ebdbbfe2-ab6e-4407-95d7-3c7e9ee9773d",
   "metadata": {},
   "outputs": [
    {
     "data": {
      "text/plain": [
       "pizza_id             float64\n",
       "pizza_name_id         object\n",
       "pizza_category        object\n",
       "pizza_ingredients     object\n",
       "pizza_name            object\n",
       "pizza_size            object\n",
       "unit_price           float64\n",
       "dtype: object"
      ]
     },
     "execution_count": 30,
     "metadata": {},
     "output_type": "execute_result"
    }
   ],
   "source": [
    "pizza_dim.dtypes"
   ]
  },
  {
   "cell_type": "code",
   "execution_count": 31,
   "id": "5eacdbd0-4b7b-441f-b771-82f3cb0e933e",
   "metadata": {},
   "outputs": [],
   "source": [
    "pizza_dim['pizza_id']=pizza_dim['pizza_id'].astype('Int64')\n",
    "df['pizza_id']=df['pizza_id'].astype('Int64')"
   ]
  },
  {
   "cell_type": "code",
   "execution_count": 32,
   "id": "2e01d371-6c1c-4d3f-9daf-8add25c2f318",
   "metadata": {},
   "outputs": [
    {
     "data": {
      "text/plain": [
       "pizza_id               Int64\n",
       "pizza_name_id         object\n",
       "pizza_category        object\n",
       "pizza_ingredients     object\n",
       "pizza_name            object\n",
       "pizza_size            object\n",
       "unit_price           float64\n",
       "dtype: object"
      ]
     },
     "execution_count": 32,
     "metadata": {},
     "output_type": "execute_result"
    }
   ],
   "source": [
    "pizza_dim.dtypes"
   ]
  },
  {
   "cell_type": "code",
   "execution_count": 33,
   "id": "ca72bdb9-4664-4102-b5f4-3393c1472e5f",
   "metadata": {},
   "outputs": [
    {
     "data": {
      "text/plain": [
       "pizza_id               Int64\n",
       "order_id             float64\n",
       "pizza_name_id         object\n",
       "quantity             float64\n",
       "order_date            object\n",
       "order_time            object\n",
       "unit_price           float64\n",
       "total_price          float64\n",
       "pizza_size            object\n",
       "pizza_category        object\n",
       "pizza_ingredients     object\n",
       "pizza_name            object\n",
       "date_id                Int64\n",
       "dtype: object"
      ]
     },
     "execution_count": 33,
     "metadata": {},
     "output_type": "execute_result"
    }
   ],
   "source": [
    "df.dtypes"
   ]
  },
  {
   "cell_type": "code",
   "execution_count": 34,
   "id": "2a185eeb-6cac-45d3-9d89-40b1a4f4d571",
   "metadata": {},
   "outputs": [
    {
     "data": {
      "text/plain": [
       "True"
      ]
     },
     "execution_count": 34,
     "metadata": {},
     "output_type": "execute_result"
    }
   ],
   "source": [
    "pizza_dim['pizza_id'].is_unique"
   ]
  },
  {
   "cell_type": "markdown",
   "id": "2fb0aaf2-2b8d-4818-94f5-846d248dcba1",
   "metadata": {},
   "source": [
    "# order fact"
   ]
  },
  {
   "cell_type": "code",
   "execution_count": 35,
   "id": "053138c7-b78e-4399-8338-98442a8793d1",
   "metadata": {},
   "outputs": [
    {
     "data": {
      "text/plain": [
       "False"
      ]
     },
     "execution_count": 35,
     "metadata": {},
     "output_type": "execute_result"
    }
   ],
   "source": [
    "df['order_id'].is_unique"
   ]
  },
  {
   "cell_type": "code",
   "execution_count": 36,
   "id": "fd24bb7f-73ee-4fc2-bedc-533bbfc6b24c",
   "metadata": {},
   "outputs": [
    {
     "data": {
      "text/plain": [
       "False"
      ]
     },
     "execution_count": 36,
     "metadata": {},
     "output_type": "execute_result"
    }
   ],
   "source": [
    "df[['order_id', 'pizza_id']].duplicated().any()"
   ]
  },
  {
   "cell_type": "code",
   "execution_count": 37,
   "id": "2d6f85fa-3c00-47a7-b91b-8a60b330da74",
   "metadata": {},
   "outputs": [],
   "source": [
    "order_fact = df[['order_id', 'pizza_id', 'quantity', 'total_price', 'date_id']].copy()"
   ]
  },
  {
   "cell_type": "code",
   "execution_count": 38,
   "id": "f1de46f1-e413-49e2-b728-49c000ed094d",
   "metadata": {},
   "outputs": [
    {
     "data": {
      "text/html": [
       "<div>\n",
       "<style scoped>\n",
       "    .dataframe tbody tr th:only-of-type {\n",
       "        vertical-align: middle;\n",
       "    }\n",
       "\n",
       "    .dataframe tbody tr th {\n",
       "        vertical-align: top;\n",
       "    }\n",
       "\n",
       "    .dataframe thead th {\n",
       "        text-align: right;\n",
       "    }\n",
       "</style>\n",
       "<table border=\"1\" class=\"dataframe\">\n",
       "  <thead>\n",
       "    <tr style=\"text-align: right;\">\n",
       "      <th></th>\n",
       "      <th>order_id</th>\n",
       "      <th>pizza_id</th>\n",
       "      <th>quantity</th>\n",
       "      <th>total_price</th>\n",
       "      <th>date_id</th>\n",
       "    </tr>\n",
       "  </thead>\n",
       "  <tbody>\n",
       "    <tr>\n",
       "      <th>0</th>\n",
       "      <td>1.0</td>\n",
       "      <td>1</td>\n",
       "      <td>1.0</td>\n",
       "      <td>13.25</td>\n",
       "      <td>1</td>\n",
       "    </tr>\n",
       "    <tr>\n",
       "      <th>1</th>\n",
       "      <td>2.0</td>\n",
       "      <td>2</td>\n",
       "      <td>1.0</td>\n",
       "      <td>16.00</td>\n",
       "      <td>2</td>\n",
       "    </tr>\n",
       "    <tr>\n",
       "      <th>2</th>\n",
       "      <td>2.0</td>\n",
       "      <td>3</td>\n",
       "      <td>1.0</td>\n",
       "      <td>18.50</td>\n",
       "      <td>2</td>\n",
       "    </tr>\n",
       "    <tr>\n",
       "      <th>3</th>\n",
       "      <td>2.0</td>\n",
       "      <td>4</td>\n",
       "      <td>1.0</td>\n",
       "      <td>20.75</td>\n",
       "      <td>2</td>\n",
       "    </tr>\n",
       "    <tr>\n",
       "      <th>4</th>\n",
       "      <td>2.0</td>\n",
       "      <td>5</td>\n",
       "      <td>1.0</td>\n",
       "      <td>16.00</td>\n",
       "      <td>2</td>\n",
       "    </tr>\n",
       "    <tr>\n",
       "      <th>...</th>\n",
       "      <td>...</td>\n",
       "      <td>...</td>\n",
       "      <td>...</td>\n",
       "      <td>...</td>\n",
       "      <td>...</td>\n",
       "    </tr>\n",
       "    <tr>\n",
       "      <th>48615</th>\n",
       "      <td>21348.0</td>\n",
       "      <td>48616</td>\n",
       "      <td>1.0</td>\n",
       "      <td>16.75</td>\n",
       "      <td>&lt;NA&gt;</td>\n",
       "    </tr>\n",
       "    <tr>\n",
       "      <th>48616</th>\n",
       "      <td>21348.0</td>\n",
       "      <td>48617</td>\n",
       "      <td>1.0</td>\n",
       "      <td>17.95</td>\n",
       "      <td>&lt;NA&gt;</td>\n",
       "    </tr>\n",
       "    <tr>\n",
       "      <th>48617</th>\n",
       "      <td>21348.0</td>\n",
       "      <td>48618</td>\n",
       "      <td>1.0</td>\n",
       "      <td>12.00</td>\n",
       "      <td>&lt;NA&gt;</td>\n",
       "    </tr>\n",
       "    <tr>\n",
       "      <th>48618</th>\n",
       "      <td>21349.0</td>\n",
       "      <td>48619</td>\n",
       "      <td>1.0</td>\n",
       "      <td>20.25</td>\n",
       "      <td>&lt;NA&gt;</td>\n",
       "    </tr>\n",
       "    <tr>\n",
       "      <th>48619</th>\n",
       "      <td>21350.0</td>\n",
       "      <td>48620</td>\n",
       "      <td>1.0</td>\n",
       "      <td>12.75</td>\n",
       "      <td>&lt;NA&gt;</td>\n",
       "    </tr>\n",
       "  </tbody>\n",
       "</table>\n",
       "<p>48620 rows × 5 columns</p>\n",
       "</div>"
      ],
      "text/plain": [
       "       order_id  pizza_id  quantity  total_price  date_id\n",
       "0           1.0         1       1.0        13.25        1\n",
       "1           2.0         2       1.0        16.00        2\n",
       "2           2.0         3       1.0        18.50        2\n",
       "3           2.0         4       1.0        20.75        2\n",
       "4           2.0         5       1.0        16.00        2\n",
       "...         ...       ...       ...          ...      ...\n",
       "48615   21348.0     48616       1.0        16.75     <NA>\n",
       "48616   21348.0     48617       1.0        17.95     <NA>\n",
       "48617   21348.0     48618       1.0        12.00     <NA>\n",
       "48618   21349.0     48619       1.0        20.25     <NA>\n",
       "48619   21350.0     48620       1.0        12.75     <NA>\n",
       "\n",
       "[48620 rows x 5 columns]"
      ]
     },
     "execution_count": 38,
     "metadata": {},
     "output_type": "execute_result"
    }
   ],
   "source": [
    "order_fact"
   ]
  },
  {
   "cell_type": "code",
   "execution_count": 39,
   "id": "173481da-6133-4f58-922d-ecb9cabc55c2",
   "metadata": {},
   "outputs": [],
   "source": [
    "order_fact = order_fact.reset_index(drop=True)\n",
    "order_fact['order_fact_SK'] = order_fact.index + 1"
   ]
  },
  {
   "cell_type": "code",
   "execution_count": 40,
   "id": "6762acfd-ee99-4cc5-a2f9-6b584b25d385",
   "metadata": {},
   "outputs": [
    {
     "data": {
      "text/plain": [
       "True"
      ]
     },
     "execution_count": 40,
     "metadata": {},
     "output_type": "execute_result"
    }
   ],
   "source": [
    "order_fact['order_fact_SK'].is_unique"
   ]
  },
  {
   "cell_type": "code",
   "execution_count": 41,
   "id": "a7b585d6-0614-40e9-9a3f-1e25d0088a6b",
   "metadata": {},
   "outputs": [
    {
     "data": {
      "text/html": [
       "<div>\n",
       "<style scoped>\n",
       "    .dataframe tbody tr th:only-of-type {\n",
       "        vertical-align: middle;\n",
       "    }\n",
       "\n",
       "    .dataframe tbody tr th {\n",
       "        vertical-align: top;\n",
       "    }\n",
       "\n",
       "    .dataframe thead th {\n",
       "        text-align: right;\n",
       "    }\n",
       "</style>\n",
       "<table border=\"1\" class=\"dataframe\">\n",
       "  <thead>\n",
       "    <tr style=\"text-align: right;\">\n",
       "      <th></th>\n",
       "      <th>order_id</th>\n",
       "      <th>pizza_id</th>\n",
       "      <th>quantity</th>\n",
       "      <th>total_price</th>\n",
       "      <th>date_id</th>\n",
       "      <th>order_fact_SK</th>\n",
       "    </tr>\n",
       "  </thead>\n",
       "  <tbody>\n",
       "    <tr>\n",
       "      <th>0</th>\n",
       "      <td>1.0</td>\n",
       "      <td>1</td>\n",
       "      <td>1.0</td>\n",
       "      <td>13.25</td>\n",
       "      <td>1</td>\n",
       "      <td>1</td>\n",
       "    </tr>\n",
       "    <tr>\n",
       "      <th>1</th>\n",
       "      <td>2.0</td>\n",
       "      <td>2</td>\n",
       "      <td>1.0</td>\n",
       "      <td>16.00</td>\n",
       "      <td>2</td>\n",
       "      <td>2</td>\n",
       "    </tr>\n",
       "    <tr>\n",
       "      <th>2</th>\n",
       "      <td>2.0</td>\n",
       "      <td>3</td>\n",
       "      <td>1.0</td>\n",
       "      <td>18.50</td>\n",
       "      <td>2</td>\n",
       "      <td>3</td>\n",
       "    </tr>\n",
       "    <tr>\n",
       "      <th>3</th>\n",
       "      <td>2.0</td>\n",
       "      <td>4</td>\n",
       "      <td>1.0</td>\n",
       "      <td>20.75</td>\n",
       "      <td>2</td>\n",
       "      <td>4</td>\n",
       "    </tr>\n",
       "    <tr>\n",
       "      <th>4</th>\n",
       "      <td>2.0</td>\n",
       "      <td>5</td>\n",
       "      <td>1.0</td>\n",
       "      <td>16.00</td>\n",
       "      <td>2</td>\n",
       "      <td>5</td>\n",
       "    </tr>\n",
       "    <tr>\n",
       "      <th>...</th>\n",
       "      <td>...</td>\n",
       "      <td>...</td>\n",
       "      <td>...</td>\n",
       "      <td>...</td>\n",
       "      <td>...</td>\n",
       "      <td>...</td>\n",
       "    </tr>\n",
       "    <tr>\n",
       "      <th>48615</th>\n",
       "      <td>21348.0</td>\n",
       "      <td>48616</td>\n",
       "      <td>1.0</td>\n",
       "      <td>16.75</td>\n",
       "      <td>&lt;NA&gt;</td>\n",
       "      <td>48616</td>\n",
       "    </tr>\n",
       "    <tr>\n",
       "      <th>48616</th>\n",
       "      <td>21348.0</td>\n",
       "      <td>48617</td>\n",
       "      <td>1.0</td>\n",
       "      <td>17.95</td>\n",
       "      <td>&lt;NA&gt;</td>\n",
       "      <td>48617</td>\n",
       "    </tr>\n",
       "    <tr>\n",
       "      <th>48617</th>\n",
       "      <td>21348.0</td>\n",
       "      <td>48618</td>\n",
       "      <td>1.0</td>\n",
       "      <td>12.00</td>\n",
       "      <td>&lt;NA&gt;</td>\n",
       "      <td>48618</td>\n",
       "    </tr>\n",
       "    <tr>\n",
       "      <th>48618</th>\n",
       "      <td>21349.0</td>\n",
       "      <td>48619</td>\n",
       "      <td>1.0</td>\n",
       "      <td>20.25</td>\n",
       "      <td>&lt;NA&gt;</td>\n",
       "      <td>48619</td>\n",
       "    </tr>\n",
       "    <tr>\n",
       "      <th>48619</th>\n",
       "      <td>21350.0</td>\n",
       "      <td>48620</td>\n",
       "      <td>1.0</td>\n",
       "      <td>12.75</td>\n",
       "      <td>&lt;NA&gt;</td>\n",
       "      <td>48620</td>\n",
       "    </tr>\n",
       "  </tbody>\n",
       "</table>\n",
       "<p>48620 rows × 6 columns</p>\n",
       "</div>"
      ],
      "text/plain": [
       "       order_id  pizza_id  quantity  total_price  date_id  order_fact_SK\n",
       "0           1.0         1       1.0        13.25        1              1\n",
       "1           2.0         2       1.0        16.00        2              2\n",
       "2           2.0         3       1.0        18.50        2              3\n",
       "3           2.0         4       1.0        20.75        2              4\n",
       "4           2.0         5       1.0        16.00        2              5\n",
       "...         ...       ...       ...          ...      ...            ...\n",
       "48615   21348.0     48616       1.0        16.75     <NA>          48616\n",
       "48616   21348.0     48617       1.0        17.95     <NA>          48617\n",
       "48617   21348.0     48618       1.0        12.00     <NA>          48618\n",
       "48618   21349.0     48619       1.0        20.25     <NA>          48619\n",
       "48619   21350.0     48620       1.0        12.75     <NA>          48620\n",
       "\n",
       "[48620 rows x 6 columns]"
      ]
     },
     "execution_count": 41,
     "metadata": {},
     "output_type": "execute_result"
    }
   ],
   "source": [
    "order_fact"
   ]
  },
  {
   "cell_type": "code",
   "execution_count": 42,
   "id": "331962e7-b3f8-4418-ab50-a3b2a853ee07",
   "metadata": {},
   "outputs": [
    {
     "data": {
      "text/plain": [
       "order_id         float64\n",
       "pizza_id           Int64\n",
       "quantity         float64\n",
       "total_price      float64\n",
       "date_id            Int64\n",
       "order_fact_SK      int64\n",
       "dtype: object"
      ]
     },
     "execution_count": 42,
     "metadata": {},
     "output_type": "execute_result"
    }
   ],
   "source": [
    "order_fact.dtypes"
   ]
  },
  {
   "cell_type": "code",
   "execution_count": 43,
   "id": "f8b0a4ac-f407-4361-953c-b87e76490eee",
   "metadata": {},
   "outputs": [
    {
     "data": {
      "text/plain": [
       "pizza_id               Int64\n",
       "order_id             float64\n",
       "pizza_name_id         object\n",
       "quantity             float64\n",
       "order_date            object\n",
       "order_time            object\n",
       "unit_price           float64\n",
       "total_price          float64\n",
       "pizza_size            object\n",
       "pizza_category        object\n",
       "pizza_ingredients     object\n",
       "pizza_name            object\n",
       "date_id                Int64\n",
       "dtype: object"
      ]
     },
     "execution_count": 43,
     "metadata": {},
     "output_type": "execute_result"
    }
   ],
   "source": [
    "df.dtypes"
   ]
  },
  {
   "cell_type": "code",
   "execution_count": 44,
   "id": "24a7b75c-f1eb-4494-bbbe-875ab3f4cd90",
   "metadata": {},
   "outputs": [],
   "source": [
    "order_fact['order_id']=order_fact['order_id'].astype('Int64')\n",
    "df['order_id']=df['order_id'].astype('Int64')\n"
   ]
  },
  {
   "cell_type": "code",
   "execution_count": 45,
   "id": "72057642-3cf5-4654-b618-5b11c491fa24",
   "metadata": {},
   "outputs": [
    {
     "data": {
      "text/plain": [
       "order_id           Int64\n",
       "pizza_id           Int64\n",
       "quantity         float64\n",
       "total_price      float64\n",
       "date_id            Int64\n",
       "order_fact_SK      int64\n",
       "dtype: object"
      ]
     },
     "execution_count": 45,
     "metadata": {},
     "output_type": "execute_result"
    }
   ],
   "source": [
    "order_fact.dtypes"
   ]
  },
  {
   "cell_type": "code",
   "execution_count": 46,
   "id": "167f838b-7ebc-4a6b-a0a3-67f6f53f3b71",
   "metadata": {},
   "outputs": [
    {
     "data": {
      "text/plain": [
       "pizza_id               Int64\n",
       "order_id               Int64\n",
       "pizza_name_id         object\n",
       "quantity             float64\n",
       "order_date            object\n",
       "order_time            object\n",
       "unit_price           float64\n",
       "total_price          float64\n",
       "pizza_size            object\n",
       "pizza_category        object\n",
       "pizza_ingredients     object\n",
       "pizza_name            object\n",
       "date_id                Int64\n",
       "dtype: object"
      ]
     },
     "execution_count": 46,
     "metadata": {},
     "output_type": "execute_result"
    }
   ],
   "source": [
    "df.dtypes"
   ]
  },
  {
   "cell_type": "code",
   "execution_count": 47,
   "id": "45bfd066-9716-4564-b6f4-24e8cc06f362",
   "metadata": {},
   "outputs": [
    {
     "data": {
      "text/html": [
       "<div>\n",
       "<style scoped>\n",
       "    .dataframe tbody tr th:only-of-type {\n",
       "        vertical-align: middle;\n",
       "    }\n",
       "\n",
       "    .dataframe tbody tr th {\n",
       "        vertical-align: top;\n",
       "    }\n",
       "\n",
       "    .dataframe thead th {\n",
       "        text-align: right;\n",
       "    }\n",
       "</style>\n",
       "<table border=\"1\" class=\"dataframe\">\n",
       "  <thead>\n",
       "    <tr style=\"text-align: right;\">\n",
       "      <th></th>\n",
       "      <th>order_id</th>\n",
       "      <th>pizza_id</th>\n",
       "      <th>quantity</th>\n",
       "      <th>total_price</th>\n",
       "      <th>date_id</th>\n",
       "      <th>order_fact_SK</th>\n",
       "    </tr>\n",
       "  </thead>\n",
       "  <tbody>\n",
       "    <tr>\n",
       "      <th>0</th>\n",
       "      <td>1</td>\n",
       "      <td>1</td>\n",
       "      <td>1.0</td>\n",
       "      <td>13.25</td>\n",
       "      <td>1</td>\n",
       "      <td>1</td>\n",
       "    </tr>\n",
       "    <tr>\n",
       "      <th>1</th>\n",
       "      <td>2</td>\n",
       "      <td>2</td>\n",
       "      <td>1.0</td>\n",
       "      <td>16.00</td>\n",
       "      <td>2</td>\n",
       "      <td>2</td>\n",
       "    </tr>\n",
       "    <tr>\n",
       "      <th>2</th>\n",
       "      <td>2</td>\n",
       "      <td>3</td>\n",
       "      <td>1.0</td>\n",
       "      <td>18.50</td>\n",
       "      <td>2</td>\n",
       "      <td>3</td>\n",
       "    </tr>\n",
       "    <tr>\n",
       "      <th>3</th>\n",
       "      <td>2</td>\n",
       "      <td>4</td>\n",
       "      <td>1.0</td>\n",
       "      <td>20.75</td>\n",
       "      <td>2</td>\n",
       "      <td>4</td>\n",
       "    </tr>\n",
       "    <tr>\n",
       "      <th>4</th>\n",
       "      <td>2</td>\n",
       "      <td>5</td>\n",
       "      <td>1.0</td>\n",
       "      <td>16.00</td>\n",
       "      <td>2</td>\n",
       "      <td>5</td>\n",
       "    </tr>\n",
       "    <tr>\n",
       "      <th>...</th>\n",
       "      <td>...</td>\n",
       "      <td>...</td>\n",
       "      <td>...</td>\n",
       "      <td>...</td>\n",
       "      <td>...</td>\n",
       "      <td>...</td>\n",
       "    </tr>\n",
       "    <tr>\n",
       "      <th>48615</th>\n",
       "      <td>21348</td>\n",
       "      <td>48616</td>\n",
       "      <td>1.0</td>\n",
       "      <td>16.75</td>\n",
       "      <td>&lt;NA&gt;</td>\n",
       "      <td>48616</td>\n",
       "    </tr>\n",
       "    <tr>\n",
       "      <th>48616</th>\n",
       "      <td>21348</td>\n",
       "      <td>48617</td>\n",
       "      <td>1.0</td>\n",
       "      <td>17.95</td>\n",
       "      <td>&lt;NA&gt;</td>\n",
       "      <td>48617</td>\n",
       "    </tr>\n",
       "    <tr>\n",
       "      <th>48617</th>\n",
       "      <td>21348</td>\n",
       "      <td>48618</td>\n",
       "      <td>1.0</td>\n",
       "      <td>12.00</td>\n",
       "      <td>&lt;NA&gt;</td>\n",
       "      <td>48618</td>\n",
       "    </tr>\n",
       "    <tr>\n",
       "      <th>48618</th>\n",
       "      <td>21349</td>\n",
       "      <td>48619</td>\n",
       "      <td>1.0</td>\n",
       "      <td>20.25</td>\n",
       "      <td>&lt;NA&gt;</td>\n",
       "      <td>48619</td>\n",
       "    </tr>\n",
       "    <tr>\n",
       "      <th>48619</th>\n",
       "      <td>21350</td>\n",
       "      <td>48620</td>\n",
       "      <td>1.0</td>\n",
       "      <td>12.75</td>\n",
       "      <td>&lt;NA&gt;</td>\n",
       "      <td>48620</td>\n",
       "    </tr>\n",
       "  </tbody>\n",
       "</table>\n",
       "<p>48620 rows × 6 columns</p>\n",
       "</div>"
      ],
      "text/plain": [
       "       order_id  pizza_id  quantity  total_price  date_id  order_fact_SK\n",
       "0             1         1       1.0        13.25        1              1\n",
       "1             2         2       1.0        16.00        2              2\n",
       "2             2         3       1.0        18.50        2              3\n",
       "3             2         4       1.0        20.75        2              4\n",
       "4             2         5       1.0        16.00        2              5\n",
       "...         ...       ...       ...          ...      ...            ...\n",
       "48615     21348     48616       1.0        16.75     <NA>          48616\n",
       "48616     21348     48617       1.0        17.95     <NA>          48617\n",
       "48617     21348     48618       1.0        12.00     <NA>          48618\n",
       "48618     21349     48619       1.0        20.25     <NA>          48619\n",
       "48619     21350     48620       1.0        12.75     <NA>          48620\n",
       "\n",
       "[48620 rows x 6 columns]"
      ]
     },
     "execution_count": 47,
     "metadata": {},
     "output_type": "execute_result"
    }
   ],
   "source": [
    "order_fact"
   ]
  },
  {
   "cell_type": "markdown",
   "id": "7a814143-c9b8-4ab1-8338-97ef85fdec09",
   "metadata": {},
   "source": [
    "# loading data into snowflake"
   ]
  },
  {
   "cell_type": "code",
   "execution_count": 54,
   "id": "ca54fa02-3ec2-4be5-ba47-b716a4f244c8",
   "metadata": {},
   "outputs": [
    {
     "name": "stdout",
     "output_type": "stream",
     "text": [
      "Requirement already satisfied: snowflake-connector-python in c:\\users\\yahia zakaria\\anaconda3\\lib\\site-packages (3.15.0)\n",
      "Requirement already satisfied: asn1crypto<2.0.0,>0.24.0 in c:\\users\\yahia zakaria\\anaconda3\\lib\\site-packages (from snowflake-connector-python) (1.5.1)\n",
      "Requirement already satisfied: boto3>=1.24 in c:\\users\\yahia zakaria\\anaconda3\\lib\\site-packages (from snowflake-connector-python) (1.38.23)\n",
      "Requirement already satisfied: botocore>=1.24 in c:\\users\\yahia zakaria\\anaconda3\\lib\\site-packages (from snowflake-connector-python) (1.38.23)\n",
      "Requirement already satisfied: cffi<2.0.0,>=1.9 in c:\\users\\yahia zakaria\\anaconda3\\lib\\site-packages (from snowflake-connector-python) (1.17.1)\n",
      "Requirement already satisfied: cryptography>=3.1.0 in c:\\users\\yahia zakaria\\anaconda3\\lib\\site-packages (from snowflake-connector-python) (43.0.0)\n",
      "Requirement already satisfied: pyOpenSSL<26.0.0,>=22.0.0 in c:\\users\\yahia zakaria\\anaconda3\\lib\\site-packages (from snowflake-connector-python) (24.2.1)\n",
      "Requirement already satisfied: pyjwt<3.0.0 in c:\\users\\yahia zakaria\\anaconda3\\lib\\site-packages (from snowflake-connector-python) (2.8.0)\n",
      "Requirement already satisfied: pytz in c:\\users\\yahia zakaria\\anaconda3\\lib\\site-packages (from snowflake-connector-python) (2024.1)\n",
      "Requirement already satisfied: requests<3.0.0 in c:\\users\\yahia zakaria\\anaconda3\\lib\\site-packages (from snowflake-connector-python) (2.32.3)\n",
      "Requirement already satisfied: packaging in c:\\users\\yahia zakaria\\anaconda3\\lib\\site-packages (from snowflake-connector-python) (24.1)\n",
      "Requirement already satisfied: charset_normalizer<4,>=2 in c:\\users\\yahia zakaria\\anaconda3\\lib\\site-packages (from snowflake-connector-python) (3.3.2)\n",
      "Requirement already satisfied: idna<4,>=2.5 in c:\\users\\yahia zakaria\\anaconda3\\lib\\site-packages (from snowflake-connector-python) (3.7)\n",
      "Requirement already satisfied: certifi>=2017.4.17 in c:\\users\\yahia zakaria\\anaconda3\\lib\\site-packages (from snowflake-connector-python) (2025.1.31)\n",
      "Requirement already satisfied: typing_extensions<5,>=4.3 in c:\\users\\yahia zakaria\\anaconda3\\lib\\site-packages (from snowflake-connector-python) (4.11.0)\n",
      "Requirement already satisfied: filelock<4,>=3.5 in c:\\users\\yahia zakaria\\anaconda3\\lib\\site-packages (from snowflake-connector-python) (3.13.1)\n",
      "Requirement already satisfied: sortedcontainers>=2.4.0 in c:\\users\\yahia zakaria\\anaconda3\\lib\\site-packages (from snowflake-connector-python) (2.4.0)\n",
      "Requirement already satisfied: platformdirs<5.0.0,>=2.6.0 in c:\\users\\yahia zakaria\\anaconda3\\lib\\site-packages (from snowflake-connector-python) (3.10.0)\n",
      "Requirement already satisfied: tomlkit in c:\\users\\yahia zakaria\\anaconda3\\lib\\site-packages (from snowflake-connector-python) (0.11.1)\n",
      "Requirement already satisfied: jmespath<2.0.0,>=0.7.1 in c:\\users\\yahia zakaria\\anaconda3\\lib\\site-packages (from boto3>=1.24->snowflake-connector-python) (1.0.1)\n",
      "Requirement already satisfied: s3transfer<0.14.0,>=0.13.0 in c:\\users\\yahia zakaria\\anaconda3\\lib\\site-packages (from boto3>=1.24->snowflake-connector-python) (0.13.0)\n",
      "Requirement already satisfied: python-dateutil<3.0.0,>=2.1 in c:\\users\\yahia zakaria\\anaconda3\\lib\\site-packages (from botocore>=1.24->snowflake-connector-python) (2.9.0.post0)\n",
      "Requirement already satisfied: urllib3!=2.2.0,<3,>=1.25.4 in c:\\users\\yahia zakaria\\anaconda3\\lib\\site-packages (from botocore>=1.24->snowflake-connector-python) (2.2.3)\n",
      "Requirement already satisfied: pycparser in c:\\users\\yahia zakaria\\anaconda3\\lib\\site-packages (from cffi<2.0.0,>=1.9->snowflake-connector-python) (2.21)\n",
      "Requirement already satisfied: six>=1.5 in c:\\users\\yahia zakaria\\anaconda3\\lib\\site-packages (from python-dateutil<3.0.0,>=2.1->botocore>=1.24->snowflake-connector-python) (1.16.0)\n",
      "Note: you may need to restart the kernel to use updated packages.\n"
     ]
    }
   ],
   "source": [
    "pip install snowflake-connector-python"
   ]
  },
  {
   "cell_type": "code",
   "execution_count": 55,
   "id": "f2f79541-815d-4a9d-a443-a62ccf6cbcd0",
   "metadata": {},
   "outputs": [],
   "source": [
    "import snowflake.connector\n",
    "from snowflake.connector.pandas_tools import write_pandas"
   ]
  },
  {
   "cell_type": "code",
   "execution_count": 58,
   "id": "afde76bd-cb68-440c-bc79-5c67eef6bee1",
   "metadata": {},
   "outputs": [],
   "source": [
    "conn = snowflake.connector.connect(\n",
    "    user='*****',\n",
    "    password='****',\n",
    "    account='*****',   \n",
    "    warehouse='COMPUTE_WH',\n",
    "    database='pizza_dw',\n",
    "    schema='analytics'\n",
    ")"
   ]
  },
  {
   "cell_type": "code",
   "execution_count": 59,
   "id": "3f700e9d-c863-4a17-b567-b3c7d34646b4",
   "metadata": {},
   "outputs": [],
   "source": [
    "def upload_df_to_snowflake(df, table_name):\n",
    "    success, nchunks, nrows, _ = write_pandas(conn, df, table_name.upper())\n",
    "    if success:\n",
    "        print(f\"Uploaded {nrows} rows to {table_name} successfully.\")\n",
    "    else:\n",
    "        print(f\"Failed to upload {table_name}.\")\n",
    "\n"
   ]
  },
  {
   "cell_type": "code",
   "execution_count": 60,
   "id": "1eeb096b-b00a-49af-9815-97de142cb98c",
   "metadata": {},
   "outputs": [],
   "source": [
    "date_dim.columns = [col.upper() for col in date_dim.columns]\n",
    "pizza_dim.columns = [col.upper() for col in pizza_dim.columns]\n",
    "order_fact.columns = [col.upper() for col in order_fact.columns]"
   ]
  },
  {
   "cell_type": "code",
   "execution_count": 61,
   "id": "c89b4613-8091-4faa-b321-6430dd6021f4",
   "metadata": {},
   "outputs": [
    {
     "name": "stdout",
     "output_type": "stream",
     "text": [
      "Uploaded 21350 rows to date_dim successfully.\n",
      "Uploaded 48620 rows to pizza_dim successfully.\n",
      "Uploaded 48620 rows to order_fact successfully.\n"
     ]
    }
   ],
   "source": [
    "upload_df_to_snowflake(date_dim, 'date_dim')\n",
    "upload_df_to_snowflake(pizza_dim, 'pizza_dim')\n",
    "upload_df_to_snowflake(order_fact, 'order_fact')"
   ]
  },
  {
   "cell_type": "code",
   "execution_count": 63,
   "id": "93896d73-f4eb-486d-8ab7-1537135c676a",
   "metadata": {},
   "outputs": [],
   "source": [
    "conn.close()"
   ]
  }
 ],
 "metadata": {
  "kernelspec": {
   "display_name": "Python 3 (ipykernel)",
   "language": "python",
   "name": "python3"
  },
  "language_info": {
   "codemirror_mode": {
    "name": "ipython",
    "version": 3
   },
   "file_extension": ".py",
   "mimetype": "text/x-python",
   "name": "python",
   "nbconvert_exporter": "python",
   "pygments_lexer": "ipython3",
   "version": "3.12.7"
  }
 },
 "nbformat": 4,
 "nbformat_minor": 5
}
